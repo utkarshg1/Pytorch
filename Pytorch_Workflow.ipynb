{
  "nbformat": 4,
  "nbformat_minor": 0,
  "metadata": {
    "colab": {
      "provenance": [],
      "gpuType": "T4",
      "authorship_tag": "ABX9TyOsX3xMgSN7UdkShDWjlctH",
      "include_colab_link": true
    },
    "kernelspec": {
      "name": "python3",
      "display_name": "Python 3"
    },
    "language_info": {
      "name": "python"
    },
    "accelerator": "GPU"
  },
  "cells": [
    {
      "cell_type": "markdown",
      "metadata": {
        "id": "view-in-github",
        "colab_type": "text"
      },
      "source": [
        "<a href=\"https://colab.research.google.com/github/utkarshg1/Pytorch/blob/main/Pytorch_Workflow.ipynb\" target=\"_parent\"><img src=\"https://colab.research.google.com/assets/colab-badge.svg\" alt=\"Open In Colab\"/></a>"
      ]
    },
    {
      "cell_type": "markdown",
      "source": [
        "# Pytorch Workflow"
      ],
      "metadata": {
        "id": "E6KKYVI5PeTp"
      }
    },
    {
      "cell_type": "code",
      "execution_count": 1,
      "metadata": {
        "id": "9FidZr-8PbZd"
      },
      "outputs": [],
      "source": [
        "import torch\n",
        "from torch import nn\n",
        "import matplotlib.pyplot as plt"
      ]
    },
    {
      "cell_type": "code",
      "source": [
        "torch.__version__"
      ],
      "metadata": {
        "colab": {
          "base_uri": "https://localhost:8080/",
          "height": 35
        },
        "id": "Nr9s-D3TPkMf",
        "outputId": "273c16f6-fd92-4b70-cfe1-29fa29cd8dc0"
      },
      "execution_count": 2,
      "outputs": [
        {
          "output_type": "execute_result",
          "data": {
            "text/plain": [
              "'2.5.1+cu124'"
            ],
            "application/vnd.google.colaboratory.intrinsic+json": {
              "type": "string"
            }
          },
          "metadata": {},
          "execution_count": 2
        }
      ]
    },
    {
      "cell_type": "markdown",
      "source": [
        "## 1. Data Creation"
      ],
      "metadata": {
        "id": "bgWCE9qmQCWr"
      }
    },
    {
      "cell_type": "code",
      "source": [
        "torch.manual_seed(21)\n",
        "weight = 0.7\n",
        "bias = 2.1\n",
        "\n",
        "start = 0\n",
        "end = 1.02\n",
        "step = 0.02\n",
        "\n",
        "X = torch.arange(start, end, step).unsqueeze(dim=1)\n",
        "noise = torch.normal(mean=0.0, std=0.1, size=X.shape)\n",
        "y = weight * X + bias + noise"
      ],
      "metadata": {
        "id": "2mG4WA7ZP4XX"
      },
      "execution_count": 3,
      "outputs": []
    },
    {
      "cell_type": "code",
      "source": [
        "X"
      ],
      "metadata": {
        "colab": {
          "base_uri": "https://localhost:8080/"
        },
        "id": "Wwy0Z_gqRdZ3",
        "outputId": "594320fc-f565-419c-aa9f-85861d676f06"
      },
      "execution_count": 4,
      "outputs": [
        {
          "output_type": "execute_result",
          "data": {
            "text/plain": [
              "tensor([[0.0000],\n",
              "        [0.0200],\n",
              "        [0.0400],\n",
              "        [0.0600],\n",
              "        [0.0800],\n",
              "        [0.1000],\n",
              "        [0.1200],\n",
              "        [0.1400],\n",
              "        [0.1600],\n",
              "        [0.1800],\n",
              "        [0.2000],\n",
              "        [0.2200],\n",
              "        [0.2400],\n",
              "        [0.2600],\n",
              "        [0.2800],\n",
              "        [0.3000],\n",
              "        [0.3200],\n",
              "        [0.3400],\n",
              "        [0.3600],\n",
              "        [0.3800],\n",
              "        [0.4000],\n",
              "        [0.4200],\n",
              "        [0.4400],\n",
              "        [0.4600],\n",
              "        [0.4800],\n",
              "        [0.5000],\n",
              "        [0.5200],\n",
              "        [0.5400],\n",
              "        [0.5600],\n",
              "        [0.5800],\n",
              "        [0.6000],\n",
              "        [0.6200],\n",
              "        [0.6400],\n",
              "        [0.6600],\n",
              "        [0.6800],\n",
              "        [0.7000],\n",
              "        [0.7200],\n",
              "        [0.7400],\n",
              "        [0.7600],\n",
              "        [0.7800],\n",
              "        [0.8000],\n",
              "        [0.8200],\n",
              "        [0.8400],\n",
              "        [0.8600],\n",
              "        [0.8800],\n",
              "        [0.9000],\n",
              "        [0.9200],\n",
              "        [0.9400],\n",
              "        [0.9600],\n",
              "        [0.9800],\n",
              "        [1.0000]])"
            ]
          },
          "metadata": {},
          "execution_count": 4
        }
      ]
    },
    {
      "cell_type": "code",
      "source": [
        "y"
      ],
      "metadata": {
        "colab": {
          "base_uri": "https://localhost:8080/"
        },
        "id": "GrU6O61gReEe",
        "outputId": "600aa41c-8f4e-4773-cdcf-984f3d178f40"
      },
      "execution_count": 5,
      "outputs": [
        {
          "output_type": "execute_result",
          "data": {
            "text/plain": [
              "tensor([[2.0761],\n",
              "        [2.0047],\n",
              "        [2.1436],\n",
              "        [2.1595],\n",
              "        [2.0607],\n",
              "        [2.1156],\n",
              "        [2.3039],\n",
              "        [2.2940],\n",
              "        [2.1013],\n",
              "        [2.1420],\n",
              "        [2.2398],\n",
              "        [2.2764],\n",
              "        [2.3557],\n",
              "        [2.2282],\n",
              "        [2.2661],\n",
              "        [2.4079],\n",
              "        [2.4822],\n",
              "        [2.3116],\n",
              "        [2.2703],\n",
              "        [2.5088],\n",
              "        [2.5560],\n",
              "        [2.5115],\n",
              "        [2.4344],\n",
              "        [2.3536],\n",
              "        [2.5661],\n",
              "        [2.4489],\n",
              "        [2.4047],\n",
              "        [2.5484],\n",
              "        [2.4444],\n",
              "        [2.4962],\n",
              "        [2.5411],\n",
              "        [2.5093],\n",
              "        [2.4921],\n",
              "        [2.6146],\n",
              "        [2.4971],\n",
              "        [2.5268],\n",
              "        [2.6121],\n",
              "        [2.5872],\n",
              "        [2.7060],\n",
              "        [2.5804],\n",
              "        [2.5896],\n",
              "        [2.6880],\n",
              "        [2.6017],\n",
              "        [2.5938],\n",
              "        [2.6376],\n",
              "        [2.8166],\n",
              "        [2.4947],\n",
              "        [2.5898],\n",
              "        [2.8590],\n",
              "        [2.7171],\n",
              "        [2.6737]])"
            ]
          },
          "metadata": {},
          "execution_count": 5
        }
      ]
    },
    {
      "cell_type": "code",
      "source": [
        "plt.scatter(X, y)"
      ],
      "metadata": {
        "colab": {
          "base_uri": "https://localhost:8080/",
          "height": 447
        },
        "id": "y7NN9hmgRgwv",
        "outputId": "cc5f878c-208e-46f1-ab97-6436fb7e06c0"
      },
      "execution_count": 6,
      "outputs": [
        {
          "output_type": "execute_result",
          "data": {
            "text/plain": [
              "<matplotlib.collections.PathCollection at 0x7fa67a5f3bd0>"
            ]
          },
          "metadata": {},
          "execution_count": 6
        },
        {
          "output_type": "display_data",
          "data": {
            "text/plain": [
              "<Figure size 640x480 with 1 Axes>"
            ],
            "image/png": "[encoded data removed]"
          },
          "metadata": {}
        }
      ]
    },
    {
      "cell_type": "code",
      "source": [
        "X.shape"
      ],
      "metadata": {
        "colab": {
          "base_uri": "https://localhost:8080/"
        },
        "id": "ZL8XyYhQR0QV",
        "outputId": "1ca73fac-c294-4b1d-a663-2324df904b03"
      },
      "execution_count": 7,
      "outputs": [
        {
          "output_type": "execute_result",
          "data": {
            "text/plain": [
              "torch.Size([51, 1])"
            ]
          },
          "metadata": {},
          "execution_count": 7
        }
      ]
    },
    {
      "cell_type": "code",
      "source": [
        "y.shape"
      ],
      "metadata": {
        "colab": {
          "base_uri": "https://localhost:8080/"
        },
        "id": "iD2cxGYcSdEt",
        "outputId": "4341f1b7-3f60-4570-e192-ce77db2ec57f"
      },
      "execution_count": 8,
      "outputs": [
        {
          "output_type": "execute_result",
          "data": {
            "text/plain": [
              "torch.Size([51, 1])"
            ]
          },
          "metadata": {},
          "execution_count": 8
        }
      ]
    },
    {
      "cell_type": "code",
      "source": [
        "X.dtype"
      ],
      "metadata": {
        "colab": {
          "base_uri": "https://localhost:8080/"
        },
        "id": "4DzD6N_SS-DV",
        "outputId": "0e08a737-7ad9-4772-93a7-efa84659268e"
      },
      "execution_count": 9,
      "outputs": [
        {
          "output_type": "execute_result",
          "data": {
            "text/plain": [
              "torch.float32"
            ]
          },
          "metadata": {},
          "execution_count": 9
        }
      ]
    },
    {
      "cell_type": "code",
      "source": [
        "y.dtype"
      ],
      "metadata": {
        "colab": {
          "base_uri": "https://localhost:8080/"
        },
        "id": "sJRQTDAaS-7U",
        "outputId": "7aa65de0-ed66-418a-ac08-b9ef4ac025ff"
      },
      "execution_count": 10,
      "outputs": [
        {
          "output_type": "execute_result",
          "data": {
            "text/plain": [
              "torch.float32"
            ]
          },
          "metadata": {},
          "execution_count": 10
        }
      ]
    },
    {
      "cell_type": "markdown",
      "source": [
        "## 2. Train Test Split"
      ],
      "metadata": {
        "id": "vBfkMikCTm9r"
      }
    },
    {
      "cell_type": "code",
      "source": [
        "from sklearn.model_selection import train_test_split"
      ],
      "metadata": {
        "id": "GlRI41gMS_02"
      },
      "execution_count": 11,
      "outputs": []
    },
    {
      "cell_type": "code",
      "source": [
        "xtrain, xtest, ytrain, ytest = train_test_split(X, y, test_size=0.2, random_state=42)"
      ],
      "metadata": {
        "id": "k7qq5roST0yn"
      },
      "execution_count": 12,
      "outputs": []
    },
    {
      "cell_type": "code",
      "source": [
        "xtrain.shape"
      ],
      "metadata": {
        "colab": {
          "base_uri": "https://localhost:8080/"
        },
        "id": "tTOSiEo5T7eU",
        "outputId": "83f65004-824c-405d-a952-7f01be97c33d"
      },
      "execution_count": 13,
      "outputs": [
        {
          "output_type": "execute_result",
          "data": {
            "text/plain": [
              "torch.Size([40, 1])"
            ]
          },
          "metadata": {},
          "execution_count": 13
        }
      ]
    },
    {
      "cell_type": "code",
      "source": [
        "ytrain.shape"
      ],
      "metadata": {
        "colab": {
          "base_uri": "https://localhost:8080/"
        },
        "id": "hbBa1AkZT78_",
        "outputId": "1a1592e1-faba-4a58-856e-84159322ec14"
      },
      "execution_count": 14,
      "outputs": [
        {
          "output_type": "execute_result",
          "data": {
            "text/plain": [
              "torch.Size([40, 1])"
            ]
          },
          "metadata": {},
          "execution_count": 14
        }
      ]
    },
    {
      "cell_type": "code",
      "source": [
        "xtest.shape"
      ],
      "metadata": {
        "colab": {
          "base_uri": "https://localhost:8080/"
        },
        "id": "6YkYmBxvT_L-",
        "outputId": "17aa958f-aa90-4229-ef3d-b45dd59bd17e"
      },
      "execution_count": 15,
      "outputs": [
        {
          "output_type": "execute_result",
          "data": {
            "text/plain": [
              "torch.Size([11, 1])"
            ]
          },
          "metadata": {},
          "execution_count": 15
        }
      ]
    },
    {
      "cell_type": "code",
      "source": [
        "ytest.shape"
      ],
      "metadata": {
        "colab": {
          "base_uri": "https://localhost:8080/"
        },
        "id": "bM_waScDUADx",
        "outputId": "b562589e-5b45-42c4-9396-0bced17428ea"
      },
      "execution_count": 16,
      "outputs": [
        {
          "output_type": "execute_result",
          "data": {
            "text/plain": [
              "torch.Size([11, 1])"
            ]
          },
          "metadata": {},
          "execution_count": 16
        }
      ]
    },
    {
      "cell_type": "markdown",
      "source": [
        "## 3. Visualize data"
      ],
      "metadata": {
        "id": "jvgoZ5D3Ulk5"
      }
    },
    {
      "cell_type": "code",
      "source": [
        "def plot_predictions(xtrain, ytrain, xtest, ytest, predictions=None):\n",
        "  plt.figure(figsize=(10, 7))\n",
        "  plt.scatter(xtrain, ytrain, label=\"train\")\n",
        "  plt.scatter(xtest, ytest, label=\"test\")\n",
        "  if predictions is not None:\n",
        "    plt.plot(xtest, predictions, label=\"predictions\", c=\"orange\")\n",
        "  plt.legend()\n",
        "  plt.show()"
      ],
      "metadata": {
        "id": "wuqFjxv_UpAS"
      },
      "execution_count": 17,
      "outputs": []
    },
    {
      "cell_type": "code",
      "source": [
        "plot_predictions(xtrain, ytrain, xtest, ytest)"
      ],
      "metadata": {
        "colab": {
          "base_uri": "https://localhost:8080/",
          "height": 599
        },
        "id": "KLuBaM6EUA3X",
        "outputId": "07427e8f-f8ef-4015-c834-7be37e6c8e17"
      },
      "execution_count": 18,
      "outputs": [
        {
          "output_type": "display_data",
          "data": {
            "text/plain": [
              "<Figure size 1000x700 with 1 Axes>"
            ],
            "image/png": "[encoded data removed]"
          },
          "metadata": {}
        }
      ]
    },
    {
      "cell_type": "markdown",
      "source": [
        "## 4. Building Model"
      ],
      "metadata": {
        "id": "01jwhjEpVmpv"
      }
    },
    {
      "cell_type": "code",
      "source": [
        "class LinearRegressionModel(nn.Module):\n",
        "\n",
        "  def __init__(self):\n",
        "    super().__init__()\n",
        "    self.weights = nn.Parameter(torch.randn(1, requires_grad=True, dtype=torch.float))\n",
        "    self.bias = nn.Parameter(torch.randn(1, requires_grad=True, dtype=torch.float))\n",
        "\n",
        "  def forward(self, x: torch.Tensor) -> torch.Tensor:\n",
        "    return self.weights * x + self.bias\n"
      ],
      "metadata": {
        "id": "SSrtAOjUUKzX"
      },
      "execution_count": 19,
      "outputs": []
    },
    {
      "cell_type": "markdown",
      "source": [
        "### Checking pytorch model"
      ],
      "metadata": {
        "id": "TlD4FMdgZsmp"
      }
    },
    {
      "cell_type": "code",
      "source": [
        "torch.manual_seed(42)\n",
        "\n",
        "model_0 = LinearRegressionModel()\n",
        "\n",
        "model_0"
      ],
      "metadata": {
        "colab": {
          "base_uri": "https://localhost:8080/"
        },
        "id": "WZcTWyrCYNLe",
        "outputId": "fb48123e-fc7e-49f3-d59b-5849d396d756"
      },
      "execution_count": 20,
      "outputs": [
        {
          "output_type": "execute_result",
          "data": {
            "text/plain": [
              "LinearRegressionModel()"
            ]
          },
          "metadata": {},
          "execution_count": 20
        }
      ]
    },
    {
      "cell_type": "code",
      "source": [
        "list(model_0.parameters())"
      ],
      "metadata": {
        "colab": {
          "base_uri": "https://localhost:8080/"
        },
        "id": "Dex0q0FMZ8cC",
        "outputId": "dda66e5c-76c6-4d98-9489-042832bff0e3"
      },
      "execution_count": 21,
      "outputs": [
        {
          "output_type": "execute_result",
          "data": {
            "text/plain": [
              "[Parameter containing:\n",
              " tensor([0.3367], requires_grad=True),\n",
              " Parameter containing:\n",
              " tensor([0.1288], requires_grad=True)]"
            ]
          },
          "metadata": {},
          "execution_count": 21
        }
      ]
    },
    {
      "cell_type": "code",
      "source": [
        "model_0.state_dict()"
      ],
      "metadata": {
        "colab": {
          "base_uri": "https://localhost:8080/"
        },
        "id": "_ZKW5FcCc2hb",
        "outputId": "3eba7fed-ad46-49e5-a167-1249ec9058a9"
      },
      "execution_count": 22,
      "outputs": [
        {
          "output_type": "execute_result",
          "data": {
            "text/plain": [
              "OrderedDict([('weights', tensor([0.3367])), ('bias', tensor([0.1288]))])"
            ]
          },
          "metadata": {},
          "execution_count": 22
        }
      ]
    },
    {
      "cell_type": "code",
      "source": [
        "weight, bias"
      ],
      "metadata": {
        "colab": {
          "base_uri": "https://localhost:8080/"
        },
        "id": "1wpoD3KydR8b",
        "outputId": "e591c1dd-7d09-48fb-eeca-215ee87afcce"
      },
      "execution_count": 23,
      "outputs": [
        {
          "output_type": "execute_result",
          "data": {
            "text/plain": [
              "(0.7, 2.1)"
            ]
          },
          "metadata": {},
          "execution_count": 23
        }
      ]
    },
    {
      "cell_type": "code",
      "source": [
        "with torch.inference_mode():\n",
        "  ypred_test = model_0(xtest)"
      ],
      "metadata": {
        "id": "f4CNBoioec4W"
      },
      "execution_count": 24,
      "outputs": []
    },
    {
      "cell_type": "code",
      "source": [
        "ypred_test"
      ],
      "metadata": {
        "colab": {
          "base_uri": "https://localhost:8080/"
        },
        "id": "O6OLYN6bfNCF",
        "outputId": "156edaa1-749d-4fa3-d928-cc553a413e77"
      },
      "execution_count": 25,
      "outputs": [
        {
          "output_type": "execute_result",
          "data": {
            "text/plain": [
              "tensor([[0.4184],\n",
              "        [0.3982],\n",
              "        [0.4386],\n",
              "        [0.2096],\n",
              "        [0.2904],\n",
              "        [0.3376],\n",
              "        [0.2433],\n",
              "        [0.3443],\n",
              "        [0.1490],\n",
              "        [0.3308],\n",
              "        [0.2163]])"
            ]
          },
          "metadata": {},
          "execution_count": 25
        }
      ]
    },
    {
      "cell_type": "code",
      "source": [
        "ytest"
      ],
      "metadata": {
        "colab": {
          "base_uri": "https://localhost:8080/"
        },
        "id": "RMg13BIXfNt8",
        "outputId": "9644e2cb-7b6b-4103-8e95-00aae04ce837"
      },
      "execution_count": 26,
      "outputs": [
        {
          "output_type": "execute_result",
          "data": {
            "text/plain": [
              "tensor([[2.5938],\n",
              "        [2.5896],\n",
              "        [2.4947],\n",
              "        [2.3557],\n",
              "        [2.5661],\n",
              "        [2.5093],\n",
              "        [2.3116],\n",
              "        [2.4921],\n",
              "        [2.1595],\n",
              "        [2.5411],\n",
              "        [2.2282]])"
            ]
          },
          "metadata": {},
          "execution_count": 26
        }
      ]
    },
    {
      "cell_type": "code",
      "source": [
        "plot_predictions(xtrain, ytrain, xtest, ytest, predictions=ypred_test)"
      ],
      "metadata": {
        "colab": {
          "base_uri": "https://localhost:8080/",
          "height": 599
        },
        "id": "r5EZxMZ3fPGC",
        "outputId": "73684758-48f1-4933-db76-090c9f42f2f8"
      },
      "execution_count": 27,
      "outputs": [
        {
          "output_type": "display_data",
          "data": {
            "text/plain": [
              "<Figure size 1000x700 with 1 Axes>"
            ],
            "image/png": "[encoded data removed]"
          },
          "metadata": {}
        }
      ]
    },
    {
      "cell_type": "markdown",
      "source": [
        "### Training Loop"
      ],
      "metadata": {
        "id": "GGS4MPm1hCAh"
      }
    },
    {
      "cell_type": "code",
      "source": [
        "loss_fn = nn.L1Loss()"
      ],
      "metadata": {
        "id": "-IHGxd-JffHU"
      },
      "execution_count": 28,
      "outputs": []
    },
    {
      "cell_type": "code",
      "source": [
        "loss_fn"
      ],
      "metadata": {
        "colab": {
          "base_uri": "https://localhost:8080/"
        },
        "id": "FdUxJyOUhI4L",
        "outputId": "a01e1db9-2258-4702-dc6f-d0b544030238"
      },
      "execution_count": 29,
      "outputs": [
        {
          "output_type": "execute_result",
          "data": {
            "text/plain": [
              "L1Loss()"
            ]
          },
          "metadata": {},
          "execution_count": 29
        }
      ]
    },
    {
      "cell_type": "code",
      "source": [
        "optimizer = torch.optim.SGD(params=model_0.parameters(), lr=0.01)"
      ],
      "metadata": {
        "id": "GdLhUiy7hJV5"
      },
      "execution_count": 30,
      "outputs": []
    },
    {
      "cell_type": "code",
      "source": [
        "optimizer"
      ],
      "metadata": {
        "colab": {
          "base_uri": "https://localhost:8080/"
        },
        "id": "bmsF85nSiBjK",
        "outputId": "f906d223-31fe-48e4-aa0d-1283b37d5da8"
      },
      "execution_count": 31,
      "outputs": [
        {
          "output_type": "execute_result",
          "data": {
            "text/plain": [
              "SGD (\n",
              "Parameter Group 0\n",
              "    dampening: 0\n",
              "    differentiable: False\n",
              "    foreach: None\n",
              "    fused: None\n",
              "    lr: 0.01\n",
              "    maximize: False\n",
              "    momentum: 0\n",
              "    nesterov: False\n",
              "    weight_decay: 0\n",
              ")"
            ]
          },
          "metadata": {},
          "execution_count": 31
        }
      ]
    },
    {
      "cell_type": "code",
      "source": [
        "torch.manual_seed(42)\n",
        "epochs = 1000\n",
        "\n",
        "epoch_count = []\n",
        "train_loss_values = []\n",
        "test_loss_values = []\n",
        "\n",
        "for epoch in range(epochs):\n",
        "  # Training loop\n",
        "  model_0.train()\n",
        "  ypred = model_0(xtrain)\n",
        "  loss = loss_fn(ypred, ytrain)\n",
        "  optimizer.zero_grad()\n",
        "  loss.backward()\n",
        "  optimizer.step()\n",
        "\n",
        "  # Testing Loop\n",
        "  model_0.eval()\n",
        "\n",
        "  with torch.inference_mode():\n",
        "    ypred_test = model_0(xtest)\n",
        "\n",
        "  test_loss = loss_fn(ypred_test, ytest)\n",
        "\n",
        "  if epoch % 50 == 0:\n",
        "    epoch_count.append(epoch)\n",
        "    train_loss_values.append(loss)\n",
        "    test_loss_values.append(test_loss)\n",
        "    print(f\"Epoch: {epoch} | Train Loss: {loss} | Test Loss: {test_loss}\")\n",
        "    print(f\"Params {model_0.state_dict()}\")\n"
      ],
      "metadata": {
        "colab": {
          "base_uri": "https://localhost:8080/"
        },
        "id": "UjNhNFutiEFQ",
        "outputId": "9a2dd130-0f61-4506-9570-405a740893a5"
      },
      "execution_count": 32,
      "outputs": [
        {
          "output_type": "stream",
          "name": "stdout",
          "text": [
            "Epoch: 0 | Train Loss: 2.145509958267212 | Test Loss: 2.120610237121582\n",
            "Params OrderedDict([('weights', tensor([0.3416])), ('bias', tensor([0.1388]))])\n",
            "Epoch: 50 | Train Loss: 1.5244779586791992 | Test Loss: 1.490453839302063\n",
            "Params OrderedDict([('weights', tensor([0.5876])), ('bias', tensor([0.6388]))])\n",
            "Epoch: 100 | Train Loss: 0.9034463167190552 | Test Loss: 0.8602976202964783\n",
            "Params OrderedDict([('weights', tensor([0.8336])), ('bias', tensor([1.1388]))])\n",
            "Epoch: 150 | Train Loss: 0.288920134305954 | Test Loss: 0.25860288739204407\n",
            "Params OrderedDict([('weights', tensor([1.0767])), ('bias', tensor([1.6358]))])\n",
            "Epoch: 200 | Train Loss: 0.1336853802204132 | Test Loss: 0.15124475955963135\n",
            "Params OrderedDict([('weights', tensor([1.0986])), ('bias', tensor([1.8623]))])\n",
            "Epoch: 250 | Train Loss: 0.11172749102115631 | Test Loss: 0.13135486841201782\n",
            "Params OrderedDict([('weights', tensor([1.0116])), ('bias', tensor([1.9193]))])\n",
            "Epoch: 300 | Train Loss: 0.09352409839630127 | Test Loss: 0.11323831230401993\n",
            "Params OrderedDict([('weights', tensor([0.9319])), ('bias', tensor([1.9703]))])\n",
            "Epoch: 350 | Train Loss: 0.08505965024232864 | Test Loss: 0.10165708512067795\n",
            "Params OrderedDict([('weights', tensor([0.8744])), ('bias', tensor([1.9908]))])\n",
            "Epoch: 400 | Train Loss: 0.0805635154247284 | Test Loss: 0.09285300225019455\n",
            "Params OrderedDict([('weights', tensor([0.8329])), ('bias', tensor([2.0128]))])\n",
            "Epoch: 450 | Train Loss: 0.07670627534389496 | Test Loss: 0.08706147223711014\n",
            "Params OrderedDict([('weights', tensor([0.7963])), ('bias', tensor([2.0363]))])\n",
            "Epoch: 500 | Train Loss: 0.07507193088531494 | Test Loss: 0.08325503021478653\n",
            "Params OrderedDict([('weights', tensor([0.7724])), ('bias', tensor([2.0498]))])\n",
            "Epoch: 550 | Train Loss: 0.07408095896244049 | Test Loss: 0.08047402650117874\n",
            "Params OrderedDict([('weights', tensor([0.7526])), ('bias', tensor([2.0598]))])\n",
            "Epoch: 600 | Train Loss: 0.0731399655342102 | Test Loss: 0.07829392701387405\n",
            "Params OrderedDict([('weights', tensor([0.7339])), ('bias', tensor([2.0708]))])\n",
            "Epoch: 650 | Train Loss: 0.07253026217222214 | Test Loss: 0.07558215409517288\n",
            "Params OrderedDict([('weights', tensor([0.7188])), ('bias', tensor([2.0763]))])\n",
            "Epoch: 700 | Train Loss: 0.07230976223945618 | Test Loss: 0.07266142219305038\n",
            "Params OrderedDict([('weights', tensor([0.7083])), ('bias', tensor([2.0763]))])\n",
            "Epoch: 750 | Train Loss: 0.0720892995595932 | Test Loss: 0.06980332732200623\n",
            "Params OrderedDict([('weights', tensor([0.6978])), ('bias', tensor([2.0763]))])\n",
            "Epoch: 800 | Train Loss: 0.07189209759235382 | Test Loss: 0.06838618963956833\n",
            "Params OrderedDict([('weights', tensor([0.6884])), ('bias', tensor([2.0778]))])\n",
            "Epoch: 850 | Train Loss: 0.07174931466579437 | Test Loss: 0.06771564483642578\n",
            "Params OrderedDict([('weights', tensor([0.6816])), ('bias', tensor([2.0828]))])\n",
            "Epoch: 900 | Train Loss: 0.07160651683807373 | Test Loss: 0.06704512238502502\n",
            "Params OrderedDict([('weights', tensor([0.6748])), ('bias', tensor([2.0878]))])\n",
            "Epoch: 950 | Train Loss: 0.07146371901035309 | Test Loss: 0.06637456268072128\n",
            "Params OrderedDict([('weights', tensor([0.6680])), ('bias', tensor([2.0928]))])\n"
          ]
        }
      ]
    },
    {
      "cell_type": "code",
      "source": [
        "with torch.inference_mode():\n",
        "  ypred_test = model_0(xtest)"
      ],
      "metadata": {
        "id": "Q0U3WfRrn7_C"
      },
      "execution_count": 33,
      "outputs": []
    },
    {
      "cell_type": "code",
      "source": [
        "plot_predictions(xtrain, ytrain, xtest, ytest, predictions=ypred_test)"
      ],
      "metadata": {
        "colab": {
          "base_uri": "https://localhost:8080/",
          "height": 599
        },
        "id": "xXz0ZH06qJNZ",
        "outputId": "22e983a5-9b4e-4726-c93b-552b16c0aba8"
      },
      "execution_count": 34,
      "outputs": [
        {
          "output_type": "display_data",
          "data": {
            "text/plain": [
              "<Figure size 1000x700 with 1 Axes>"
            ],
            "image/png": "[encoded data removed]"
          },
          "metadata": {}
        }
      ]
    },
    {
      "cell_type": "code",
      "source": [
        "train_loss_values"
      ],
      "metadata": {
        "colab": {
          "base_uri": "https://localhost:8080/"
        },
        "id": "CcNFmaYlqPp7",
        "outputId": "c6dfce8d-d163-470f-809c-132052a4e670"
      },
      "execution_count": 35,
      "outputs": [
        {
          "output_type": "execute_result",
          "data": {
            "text/plain": [
              "[tensor(2.1455, grad_fn=<MeanBackward0>),\n",
              " tensor(1.5245, grad_fn=<MeanBackward0>),\n",
              " tensor(0.9034, grad_fn=<MeanBackward0>),\n",
              " tensor(0.2889, grad_fn=<MeanBackward0>),\n",
              " tensor(0.1337, grad_fn=<MeanBackward0>),\n",
              " tensor(0.1117, grad_fn=<MeanBackward0>),\n",
              " tensor(0.0935, grad_fn=<MeanBackward0>),\n",
              " tensor(0.0851, grad_fn=<MeanBackward0>),\n",
              " tensor(0.0806, grad_fn=<MeanBackward0>),\n",
              " tensor(0.0767, grad_fn=<MeanBackward0>),\n",
              " tensor(0.0751, grad_fn=<MeanBackward0>),\n",
              " tensor(0.0741, grad_fn=<MeanBackward0>),\n",
              " tensor(0.0731, grad_fn=<MeanBackward0>),\n",
              " tensor(0.0725, grad_fn=<MeanBackward0>),\n",
              " tensor(0.0723, grad_fn=<MeanBackward0>),\n",
              " tensor(0.0721, grad_fn=<MeanBackward0>),\n",
              " tensor(0.0719, grad_fn=<MeanBackward0>),\n",
              " tensor(0.0717, grad_fn=<MeanBackward0>),\n",
              " tensor(0.0716, grad_fn=<MeanBackward0>),\n",
              " tensor(0.0715, grad_fn=<MeanBackward0>)]"
            ]
          },
          "metadata": {},
          "execution_count": 35
        }
      ]
    },
    {
      "cell_type": "code",
      "source": [
        "train_loss_numpy = [i.detach().numpy() for i in train_loss_values]\n",
        "train_loss_numpy"
      ],
      "metadata": {
        "colab": {
          "base_uri": "https://localhost:8080/"
        },
        "id": "trPzOyVuvyKw",
        "outputId": "89afd492-3fe4-4e0b-da2e-1f0a97b0af66"
      },
      "execution_count": 36,
      "outputs": [
        {
          "output_type": "execute_result",
          "data": {
            "text/plain": [
              "[array(2.14551, dtype=float32),\n",
              " array(1.524478, dtype=float32),\n",
              " array(0.9034463, dtype=float32),\n",
              " array(0.28892013, dtype=float32),\n",
              " array(0.13368538, dtype=float32),\n",
              " array(0.11172749, dtype=float32),\n",
              " array(0.0935241, dtype=float32),\n",
              " array(0.08505965, dtype=float32),\n",
              " array(0.08056352, dtype=float32),\n",
              " array(0.07670628, dtype=float32),\n",
              " array(0.07507193, dtype=float32),\n",
              " array(0.07408096, dtype=float32),\n",
              " array(0.07313997, dtype=float32),\n",
              " array(0.07253026, dtype=float32),\n",
              " array(0.07230976, dtype=float32),\n",
              " array(0.0720893, dtype=float32),\n",
              " array(0.0718921, dtype=float32),\n",
              " array(0.07174931, dtype=float32),\n",
              " array(0.07160652, dtype=float32),\n",
              " array(0.07146372, dtype=float32)]"
            ]
          },
          "metadata": {},
          "execution_count": 36
        }
      ]
    },
    {
      "cell_type": "code",
      "source": [
        "test_loss_values"
      ],
      "metadata": {
        "colab": {
          "base_uri": "https://localhost:8080/"
        },
        "id": "XTDGFGtluvhy",
        "outputId": "d19abf4f-6bdb-4962-9db2-e01d166b352d"
      },
      "execution_count": 37,
      "outputs": [
        {
          "output_type": "execute_result",
          "data": {
            "text/plain": [
              "[tensor(2.1206),\n",
              " tensor(1.4905),\n",
              " tensor(0.8603),\n",
              " tensor(0.2586),\n",
              " tensor(0.1512),\n",
              " tensor(0.1314),\n",
              " tensor(0.1132),\n",
              " tensor(0.1017),\n",
              " tensor(0.0929),\n",
              " tensor(0.0871),\n",
              " tensor(0.0833),\n",
              " tensor(0.0805),\n",
              " tensor(0.0783),\n",
              " tensor(0.0756),\n",
              " tensor(0.0727),\n",
              " tensor(0.0698),\n",
              " tensor(0.0684),\n",
              " tensor(0.0677),\n",
              " tensor(0.0670),\n",
              " tensor(0.0664)]"
            ]
          },
          "metadata": {},
          "execution_count": 37
        }
      ]
    },
    {
      "cell_type": "code",
      "source": [
        "test_loss_numpy = [i.detach().numpy() for i in test_loss_values]\n",
        "test_loss_numpy"
      ],
      "metadata": {
        "colab": {
          "base_uri": "https://localhost:8080/"
        },
        "id": "hY4M7y8NwFZi",
        "outputId": "5453f81f-7490-4554-8b8c-f53ea4a1c228"
      },
      "execution_count": 38,
      "outputs": [
        {
          "output_type": "execute_result",
          "data": {
            "text/plain": [
              "[array(2.1206102, dtype=float32),\n",
              " array(1.4904538, dtype=float32),\n",
              " array(0.8602976, dtype=float32),\n",
              " array(0.2586029, dtype=float32),\n",
              " array(0.15124476, dtype=float32),\n",
              " array(0.13135487, dtype=float32),\n",
              " array(0.11323831, dtype=float32),\n",
              " array(0.10165709, dtype=float32),\n",
              " array(0.092853, dtype=float32),\n",
              " array(0.08706147, dtype=float32),\n",
              " array(0.08325503, dtype=float32),\n",
              " array(0.08047403, dtype=float32),\n",
              " array(0.07829393, dtype=float32),\n",
              " array(0.07558215, dtype=float32),\n",
              " array(0.07266142, dtype=float32),\n",
              " array(0.06980333, dtype=float32),\n",
              " array(0.06838619, dtype=float32),\n",
              " array(0.06771564, dtype=float32),\n",
              " array(0.06704512, dtype=float32),\n",
              " array(0.06637456, dtype=float32)]"
            ]
          },
          "metadata": {},
          "execution_count": 38
        }
      ]
    },
    {
      "cell_type": "code",
      "source": [
        "plt.figure(figsize=(10, 7))\n",
        "plt.plot(epoch_count, train_loss_numpy, label=\"train loss\")\n",
        "plt.plot(epoch_count, test_loss_numpy, label=\"test loss\")\n",
        "plt.xlabel(\"Epochs\")\n",
        "plt.ylabel(\"Mean Absolute Error\")\n",
        "plt.title(\"Learning Curve\")\n",
        "plt.legend()\n",
        "plt.show()"
      ],
      "metadata": {
        "colab": {
          "base_uri": "https://localhost:8080/",
          "height": 641
        },
        "id": "ym0jq9-tuzga",
        "outputId": "64a5d2e8-5f4a-4897-aee2-555da5eacce0"
      },
      "execution_count": 39,
      "outputs": [
        {
          "output_type": "display_data",
          "data": {
            "text/plain": [
              "<Figure size 1000x700 with 1 Axes>"
            ],
            "image/png": "[encoded data removed]"
          },
          "metadata": {}
        }
      ]
    },
    {
      "cell_type": "markdown",
      "source": [
        "## Saving a model in pytorch"
      ],
      "metadata": {
        "id": "1mZWriBvyXDO"
      }
    },
    {
      "cell_type": "code",
      "source": [
        "model_0.state_dict()"
      ],
      "metadata": {
        "colab": {
          "base_uri": "https://localhost:8080/"
        },
        "id": "hA39FNa5vS9y",
        "outputId": "16b80f8a-761c-4772-d333-c533b7c6a59c"
      },
      "execution_count": 40,
      "outputs": [
        {
          "output_type": "execute_result",
          "data": {
            "text/plain": [
              "OrderedDict([('weights', tensor([0.6614])), ('bias', tensor([2.0978]))])"
            ]
          },
          "metadata": {},
          "execution_count": 40
        }
      ]
    },
    {
      "cell_type": "code",
      "source": [
        "from pathlib import Path"
      ],
      "metadata": {
        "id": "OUR8Ii-kyfTZ"
      },
      "execution_count": 41,
      "outputs": []
    },
    {
      "cell_type": "code",
      "source": [
        "MODEL_PATH = Path(\"models\")\n",
        "MODEL_PATH.mkdir(parents=True, exist_ok=True)\n",
        "\n",
        "MODEL_NAME = \"model_0.pth\"\n",
        "MODEL_SAVE_PATH = MODEL_PATH / MODEL_NAME\n",
        "\n",
        "print(f\"Saving Model to : {MODEL_SAVE_PATH}\")\n",
        "torch.save(obj=model_0.state_dict(), f=MODEL_SAVE_PATH)"
      ],
      "metadata": {
        "colab": {
          "base_uri": "https://localhost:8080/"
        },
        "id": "ghTrwhECy77l",
        "outputId": "1e38794f-4663-4a92-86ac-343e73c35853"
      },
      "execution_count": 42,
      "outputs": [
        {
          "output_type": "stream",
          "name": "stdout",
          "text": [
            "Saving Model to : models/model_0.pth\n"
          ]
        }
      ]
    },
    {
      "cell_type": "markdown",
      "source": [
        "## Loading model"
      ],
      "metadata": {
        "id": "1bqhWM2h04CR"
      }
    },
    {
      "cell_type": "code",
      "source": [
        "checkpoint = torch.load(MODEL_SAVE_PATH, weights_only=True)\n",
        "checkpoint"
      ],
      "metadata": {
        "colab": {
          "base_uri": "https://localhost:8080/"
        },
        "id": "Y9-HBj28zgs1",
        "outputId": "c1bd7782-2a74-438f-a91e-8a0242e03e49"
      },
      "execution_count": 43,
      "outputs": [
        {
          "output_type": "execute_result",
          "data": {
            "text/plain": [
              "OrderedDict([('weights', tensor([0.6614])), ('bias', tensor([2.0978]))])"
            ]
          },
          "metadata": {},
          "execution_count": 43
        }
      ]
    },
    {
      "cell_type": "code",
      "source": [
        "model_1 = LinearRegressionModel()\n",
        "model_1.state_dict()"
      ],
      "metadata": {
        "colab": {
          "base_uri": "https://localhost:8080/"
        },
        "id": "y6st1Gb71CK6",
        "outputId": "e1249b3a-6d2d-4206-c4b9-e26521370bae"
      },
      "execution_count": 44,
      "outputs": [
        {
          "output_type": "execute_result",
          "data": {
            "text/plain": [
              "OrderedDict([('weights', tensor([0.3367])), ('bias', tensor([0.1288]))])"
            ]
          },
          "metadata": {},
          "execution_count": 44
        }
      ]
    },
    {
      "cell_type": "code",
      "source": [
        "model_1.load_state_dict(checkpoint)"
      ],
      "metadata": {
        "colab": {
          "base_uri": "https://localhost:8080/"
        },
        "id": "wsIBC-UO1K9O",
        "outputId": "80cc47f5-3f7e-48c5-863b-a86bb3f30e3c"
      },
      "execution_count": 45,
      "outputs": [
        {
          "output_type": "execute_result",
          "data": {
            "text/plain": [
              "<All keys matched successfully>"
            ]
          },
          "metadata": {},
          "execution_count": 45
        }
      ]
    },
    {
      "cell_type": "code",
      "source": [
        "model_1.state_dict()"
      ],
      "metadata": {
        "colab": {
          "base_uri": "https://localhost:8080/"
        },
        "id": "qs17MKcs1daa",
        "outputId": "779fb286-9fe2-4e14-ace4-cccccc15fa32"
      },
      "execution_count": 46,
      "outputs": [
        {
          "output_type": "execute_result",
          "data": {
            "text/plain": [
              "OrderedDict([('weights', tensor([0.6614])), ('bias', tensor([2.0978]))])"
            ]
          },
          "metadata": {},
          "execution_count": 46
        }
      ]
    },
    {
      "cell_type": "markdown",
      "source": [
        "# Pytorch with GPU"
      ],
      "metadata": {
        "id": "mA80yyCB3K2U"
      }
    },
    {
      "cell_type": "code",
      "source": [
        "device = \"cuda\" if torch.cuda.is_available() else \"cpu\"\n",
        "print(f\"Current Device : {device}\")"
      ],
      "metadata": {
        "colab": {
          "base_uri": "https://localhost:8080/"
        },
        "id": "U-Q21Qge68Ap",
        "outputId": "95e2409a-adf6-4600-a347-da7579b99a33"
      },
      "execution_count": 66,
      "outputs": [
        {
          "output_type": "stream",
          "name": "stdout",
          "text": [
            "Current Device : cuda\n"
          ]
        }
      ]
    },
    {
      "cell_type": "code",
      "source": [
        "torch.manual_seed(63)\n",
        "weight = 1.5\n",
        "bias = 3.2\n",
        "\n",
        "start = 0\n",
        "end = 1.02\n",
        "step = 0.02\n",
        "\n",
        "X = torch.arange(start, end, step).unsqueeze(dim=1)\n",
        "noise = torch.normal(mean=0.0, std=0.1, size=X.shape)\n",
        "y = weight * X + bias + noise"
      ],
      "metadata": {
        "id": "72WnuT7M37XL"
      },
      "execution_count": 67,
      "outputs": []
    },
    {
      "cell_type": "code",
      "source": [
        "X = X.to(device)\n",
        "y = y.to(device)"
      ],
      "metadata": {
        "id": "GFRZOGp664pG"
      },
      "execution_count": 68,
      "outputs": []
    },
    {
      "cell_type": "code",
      "source": [
        "xtrain, xtest, ytrain, ytest = train_test_split(X, y, test_size=0.3, random_state=42)"
      ],
      "metadata": {
        "id": "-XfaCOUL4Dyw"
      },
      "execution_count": 69,
      "outputs": []
    },
    {
      "cell_type": "code",
      "source": [
        "plot_predictions(xtrain.to(\"cpu\"), ytrain.to(\"cpu\"), xtest.to(\"cpu\"), ytest.to(\"cpu\"))"
      ],
      "metadata": {
        "colab": {
          "base_uri": "https://localhost:8080/",
          "height": 599
        },
        "id": "MdeM4ln04KdD",
        "outputId": "b6ebc058-ff9e-450f-dc5a-da1096eed74a"
      },
      "execution_count": 70,
      "outputs": [
        {
          "output_type": "display_data",
          "data": {
            "text/plain": [
              "<Figure size 1000x700 with 1 Axes>"
            ],
            "image/png": "[encoded data removed]"
          },
          "metadata": {}
        }
      ]
    },
    {
      "cell_type": "code",
      "source": [
        "class LinearRegressionModelV2(nn.Module):\n",
        "\n",
        "  def __init__(self):\n",
        "    super().__init__()\n",
        "    self.linear_layer = nn.Linear(in_features=1, out_features=1)\n",
        "\n",
        "  def forward(self, x:torch.Tensor) -> torch.Tensor:\n",
        "    return self.linear_layer(x)"
      ],
      "metadata": {
        "id": "VjjqjWl73V8X"
      },
      "execution_count": 71,
      "outputs": []
    },
    {
      "cell_type": "code",
      "source": [
        "torch.manual_seed(42)\n",
        "\n",
        "model_1 = LinearRegressionModelV2()\n",
        "\n",
        "model_1.state_dict()"
      ],
      "metadata": {
        "colab": {
          "base_uri": "https://localhost:8080/"
        },
        "id": "---ik_7t4mzG",
        "outputId": "73bb3ef0-1e01-4637-db9f-3bc67adeef25"
      },
      "execution_count": 72,
      "outputs": [
        {
          "output_type": "execute_result",
          "data": {
            "text/plain": [
              "OrderedDict([('linear_layer.weight', tensor([[0.7645]])),\n",
              "             ('linear_layer.bias', tensor([0.8300]))])"
            ]
          },
          "metadata": {},
          "execution_count": 72
        }
      ]
    },
    {
      "cell_type": "code",
      "source": [
        "model_1.to(device)"
      ],
      "metadata": {
        "colab": {
          "base_uri": "https://localhost:8080/"
        },
        "id": "4ChD5-pe5BBk",
        "outputId": "c7502420-f0ab-4a9d-c62e-56d6259dd3e1"
      },
      "execution_count": 73,
      "outputs": [
        {
          "output_type": "execute_result",
          "data": {
            "text/plain": [
              "LinearRegressionModelV2(\n",
              "  (linear_layer): Linear(in_features=1, out_features=1, bias=True)\n",
              ")"
            ]
          },
          "metadata": {},
          "execution_count": 73
        }
      ]
    },
    {
      "cell_type": "code",
      "source": [
        "next(model_1.parameters()).device"
      ],
      "metadata": {
        "colab": {
          "base_uri": "https://localhost:8080/"
        },
        "id": "veJBSuBV5oXT",
        "outputId": "7c15ca35-08d8-4252-bcc2-003ae16f0014"
      },
      "execution_count": 74,
      "outputs": [
        {
          "output_type": "execute_result",
          "data": {
            "text/plain": [
              "device(type='cuda', index=0)"
            ]
          },
          "metadata": {},
          "execution_count": 74
        }
      ]
    },
    {
      "cell_type": "code",
      "source": [
        "model_1.eval()\n",
        "\n",
        "with torch.inference_mode():\n",
        "  ypred_test = model_1(xtest.to(device))"
      ],
      "metadata": {
        "id": "6ccGknDz6X87"
      },
      "execution_count": 75,
      "outputs": []
    },
    {
      "cell_type": "code",
      "source": [
        "plot_predictions(xtrain.to(\"cpu\"), ytrain.to(\"cpu\"), xtest.to(\"cpu\"), ytest.to(\"cpu\"),\n",
        "                 predictions=ypred_test.to(\"cpu\"))"
      ],
      "metadata": {
        "colab": {
          "base_uri": "https://localhost:8080/",
          "height": 601
        },
        "id": "Pnonyb3A6oH6",
        "outputId": "76dafa04-5a81-42f6-90fe-e3d0c327d4cc"
      },
      "execution_count": 76,
      "outputs": [
        {
          "output_type": "display_data",
          "data": {
            "text/plain": [
              "<Figure size 1000x700 with 1 Axes>"
            ],
            "image/png": "[encoded data removed]"
          },
          "metadata": {}
        }
      ]
    },
    {
      "cell_type": "markdown",
      "source": [
        "## Training"
      ],
      "metadata": {
        "id": "jJAmf8O553ly"
      }
    },
    {
      "cell_type": "code",
      "source": [
        "loss_fn = nn.MSELoss()\n",
        "loss_fn"
      ],
      "metadata": {
        "colab": {
          "base_uri": "https://localhost:8080/"
        },
        "id": "aPfdS4Vn6G1m",
        "outputId": "625182af-9b6f-4c02-a5aa-8e49dd657273"
      },
      "execution_count": 77,
      "outputs": [
        {
          "output_type": "execute_result",
          "data": {
            "text/plain": [
              "MSELoss()"
            ]
          },
          "metadata": {},
          "execution_count": 77
        }
      ]
    },
    {
      "cell_type": "code",
      "source": [
        "optimizer = torch.optim.SGD(params=model_1.parameters(), lr=0.01)\n",
        "optimizer"
      ],
      "metadata": {
        "colab": {
          "base_uri": "https://localhost:8080/"
        },
        "id": "LgwwU7V96MGX",
        "outputId": "03fcfeec-0357-4ccb-c955-83cdde8ed4ee"
      },
      "execution_count": 78,
      "outputs": [
        {
          "output_type": "execute_result",
          "data": {
            "text/plain": [
              "SGD (\n",
              "Parameter Group 0\n",
              "    dampening: 0\n",
              "    differentiable: False\n",
              "    foreach: None\n",
              "    fused: None\n",
              "    lr: 0.01\n",
              "    maximize: False\n",
              "    momentum: 0\n",
              "    nesterov: False\n",
              "    weight_decay: 0\n",
              ")"
            ]
          },
          "metadata": {},
          "execution_count": 78
        }
      ]
    },
    {
      "cell_type": "code",
      "source": [
        "torch.manual_seed(42)\n",
        "\n",
        "epochs = 1000\n",
        "epoch_count = []\n",
        "train_loss_values = []\n",
        "test_loss_values = []\n",
        "\n",
        "for epoch in range(epochs):\n",
        "  # Train Loop\n",
        "  model_1.train()\n",
        "  ypred = model_1(xtrain)\n",
        "  loss = loss_fn(ypred, ytrain)\n",
        "  optimizer.zero_grad()\n",
        "  loss.backward()\n",
        "  optimizer.step()\n",
        "\n",
        "  # Test loop\n",
        "  model_1.eval()\n",
        "  with torch.inference_mode():\n",
        "    ypred_test = model_1(xtest)\n",
        "  test_loss = loss_fn(ypred_test, ytest)\n",
        "  if epoch % 50 == 0:\n",
        "    epoch_count.append(epoch)\n",
        "    train_loss_values.append(loss)\n",
        "    test_loss_values.append(test_loss)\n",
        "    print(f\"Epoch: {epoch} | Train Loss: {loss} | Test Loss: {test_loss}\")\n",
        "    print(f\"Params {model_1.state_dict()}\")\n"
      ],
      "metadata": {
        "colab": {
          "base_uri": "https://localhost:8080/"
        },
        "id": "P4ljQuIa5x8j",
        "outputId": "2ca36002-ad16-4d5f-9c51-f37e551b2931"
      },
      "execution_count": 79,
      "outputs": [
        {
          "output_type": "stream",
          "name": "stdout",
          "text": [
            "Epoch: 0 | Train Loss: 7.496700763702393 | Test Loss: 7.363555908203125\n",
            "Params OrderedDict([('linear_layer.weight', tensor([[0.7927]], device='cuda:0')), ('linear_layer.bias', tensor([0.8846], device='cuda:0'))])\n",
            "Epoch: 50 | Train Loss: 0.6062045097351074 | Test Loss: 0.6275840997695923\n",
            "Params OrderedDict([('linear_layer.weight', tensor([[1.5639]], device='cuda:0')), ('linear_layer.bias', tensor([2.4116], device='cuda:0'))])\n",
            "Epoch: 100 | Train Loss: 0.07157392054796219 | Test Loss: 0.08141257613897324\n",
            "Params OrderedDict([('linear_layer.weight', tensor([[1.7583]], device='cuda:0')), ('linear_layer.bias', tensor([2.8469], device='cuda:0'))])\n",
            "Epoch: 150 | Train Loss: 0.028567902743816376 | Test Loss: 0.030748115852475166\n",
            "Params OrderedDict([('linear_layer.weight', tensor([[1.7935]], device='cuda:0')), ('linear_layer.bias', tensor([2.9778], device='cuda:0'))])\n",
            "Epoch: 200 | Train Loss: 0.023768875747919083 | Test Loss: 0.023350577801465988\n",
            "Params OrderedDict([('linear_layer.weight', tensor([[1.7857]], device='cuda:0')), ('linear_layer.bias', tensor([3.0236], device='cuda:0'))])\n",
            "Epoch: 250 | Train Loss: 0.02209770865738392 | Test Loss: 0.020839808508753777\n",
            "Params OrderedDict([('linear_layer.weight', tensor([[1.7669]], device='cuda:0')), ('linear_layer.bias', tensor([3.0452], device='cuda:0'))])\n",
            "Epoch: 300 | Train Loss: 0.02082177996635437 | Test Loss: 0.019265122711658478\n",
            "Params OrderedDict([('linear_layer.weight', tensor([[1.7461]], device='cuda:0')), ('linear_layer.bias', tensor([3.0594], device='cuda:0'))])\n",
            "Epoch: 350 | Train Loss: 0.019711731001734734 | Test Loss: 0.01802823133766651\n",
            "Params OrderedDict([('linear_layer.weight', tensor([[1.7257]], device='cuda:0')), ('linear_layer.bias', tensor([3.0711], device='cuda:0'))])\n",
            "Epoch: 400 | Train Loss: 0.018733816221356392 | Test Loss: 0.016986778005957603\n",
            "Params OrderedDict([('linear_layer.weight', tensor([[1.7063]], device='cuda:0')), ('linear_layer.bias', tensor([3.0817], device='cuda:0'))])\n",
            "Epoch: 450 | Train Loss: 0.017871376127004623 | Test Loss: 0.01609111577272415\n",
            "Params OrderedDict([('linear_layer.weight', tensor([[1.6880]], device='cuda:0')), ('linear_layer.bias', tensor([3.0914], device='cuda:0'))])\n",
            "Epoch: 500 | Train Loss: 0.017110705375671387 | Test Loss: 0.015316173434257507\n",
            "Params OrderedDict([('linear_layer.weight', tensor([[1.6708]], device='cuda:0')), ('linear_layer.bias', tensor([3.1006], device='cuda:0'))])\n",
            "Epoch: 550 | Train Loss: 0.016439765691757202 | Test Loss: 0.014644972048699856\n",
            "Params OrderedDict([('linear_layer.weight', tensor([[1.6547]], device='cuda:0')), ('linear_layer.bias', tensor([3.1092], device='cuda:0'))])\n",
            "Epoch: 600 | Train Loss: 0.01584797166287899 | Test Loss: 0.014064003713428974\n",
            "Params OrderedDict([('linear_layer.weight', tensor([[1.6395]], device='cuda:0')), ('linear_layer.bias', tensor([3.1172], device='cuda:0'))])\n",
            "Epoch: 650 | Train Loss: 0.0153259988874197 | Test Loss: 0.013561837375164032\n",
            "Params OrderedDict([('linear_layer.weight', tensor([[1.6252]], device='cuda:0')), ('linear_layer.bias', tensor([3.1248], device='cuda:0'))])\n",
            "Epoch: 700 | Train Loss: 0.01486560795456171 | Test Loss: 0.013128489255905151\n",
            "Params OrderedDict([('linear_layer.weight', tensor([[1.6118]], device='cuda:0')), ('linear_layer.bias', tensor([3.1319], device='cuda:0'))])\n",
            "Epoch: 750 | Train Loss: 0.014459525234997272 | Test Loss: 0.012755272909998894\n",
            "Params OrderedDict([('linear_layer.weight', tensor([[1.5993]], device='cuda:0')), ('linear_layer.bias', tensor([3.1385], device='cuda:0'))])\n",
            "Epoch: 800 | Train Loss: 0.014101375825703144 | Test Loss: 0.012434529140591621\n",
            "Params OrderedDict([('linear_layer.weight', tensor([[1.5874]], device='cuda:0')), ('linear_layer.bias', tensor([3.1448], device='cuda:0'))])\n",
            "Epoch: 850 | Train Loss: 0.013785462826490402 | Test Loss: 0.012159567326307297\n",
            "Params OrderedDict([('linear_layer.weight', tensor([[1.5764]], device='cuda:0')), ('linear_layer.bias', tensor([3.1507], device='cuda:0'))])\n",
            "Epoch: 900 | Train Loss: 0.013506842777132988 | Test Loss: 0.01192447915673256\n",
            "Params OrderedDict([('linear_layer.weight', tensor([[1.5659]], device='cuda:0')), ('linear_layer.bias', tensor([3.1562], device='cuda:0'))])\n",
            "Epoch: 950 | Train Loss: 0.01326107606291771 | Test Loss: 0.011724058538675308\n",
            "Params OrderedDict([('linear_layer.weight', tensor([[1.5562]], device='cuda:0')), ('linear_layer.bias', tensor([3.1614], device='cuda:0'))])\n"
          ]
        }
      ]
    },
    {
      "cell_type": "code",
      "source": [
        "model_1.eval()\n",
        "\n",
        "with torch.inference_mode():\n",
        "  ypred_test = model_1(xtest)"
      ],
      "metadata": {
        "id": "pa-YRbM_9hGG"
      },
      "execution_count": 80,
      "outputs": []
    },
    {
      "cell_type": "code",
      "source": [
        "plot_predictions(xtrain.to(\"cpu\"), ytrain.to(\"cpu\"), xtest.to(\"cpu\"), ytest.to(\"cpu\"),\n",
        "                 predictions=ypred_test.to(\"cpu\"))"
      ],
      "metadata": {
        "colab": {
          "base_uri": "https://localhost:8080/",
          "height": 599
        },
        "id": "BFk0feol9rwn",
        "outputId": "eb920112-90ee-478b-fd97-37a723d01125"
      },
      "execution_count": 81,
      "outputs": [
        {
          "output_type": "display_data",
          "data": {
            "text/plain": [
              "<Figure size 1000x700 with 1 Axes>"
            ],
            "image/png": "[encoded data removed]"
          },
          "metadata": {}
        }
      ]
    },
    {
      "cell_type": "code",
      "source": [
        "train_loss_values"
      ],
      "metadata": {
        "colab": {
          "base_uri": "https://localhost:8080/"
        },
        "id": "TrfnECLH9vWI",
        "outputId": "a5fbd0b8-bc13-43f5-ccdb-987d763bc219"
      },
      "execution_count": 82,
      "outputs": [
        {
          "output_type": "execute_result",
          "data": {
            "text/plain": [
              "[tensor(7.4967, device='cuda:0', grad_fn=<MseLossBackward0>),\n",
              " tensor(0.6062, device='cuda:0', grad_fn=<MseLossBackward0>),\n",
              " tensor(0.0716, device='cuda:0', grad_fn=<MseLossBackward0>),\n",
              " tensor(0.0286, device='cuda:0', grad_fn=<MseLossBackward0>),\n",
              " tensor(0.0238, device='cuda:0', grad_fn=<MseLossBackward0>),\n",
              " tensor(0.0221, device='cuda:0', grad_fn=<MseLossBackward0>),\n",
              " tensor(0.0208, device='cuda:0', grad_fn=<MseLossBackward0>),\n",
              " tensor(0.0197, device='cuda:0', grad_fn=<MseLossBackward0>),\n",
              " tensor(0.0187, device='cuda:0', grad_fn=<MseLossBackward0>),\n",
              " tensor(0.0179, device='cuda:0', grad_fn=<MseLossBackward0>),\n",
              " tensor(0.0171, device='cuda:0', grad_fn=<MseLossBackward0>),\n",
              " tensor(0.0164, device='cuda:0', grad_fn=<MseLossBackward0>),\n",
              " tensor(0.0158, device='cuda:0', grad_fn=<MseLossBackward0>),\n",
              " tensor(0.0153, device='cuda:0', grad_fn=<MseLossBackward0>),\n",
              " tensor(0.0149, device='cuda:0', grad_fn=<MseLossBackward0>),\n",
              " tensor(0.0145, device='cuda:0', grad_fn=<MseLossBackward0>),\n",
              " tensor(0.0141, device='cuda:0', grad_fn=<MseLossBackward0>),\n",
              " tensor(0.0138, device='cuda:0', grad_fn=<MseLossBackward0>),\n",
              " tensor(0.0135, device='cuda:0', grad_fn=<MseLossBackward0>),\n",
              " tensor(0.0133, device='cuda:0', grad_fn=<MseLossBackward0>)]"
            ]
          },
          "metadata": {},
          "execution_count": 82
        }
      ]
    },
    {
      "cell_type": "code",
      "source": [
        "train_loss_numpy = [i.cpu().detach().numpy() for i in train_loss_values]\n",
        "train_loss_numpy"
      ],
      "metadata": {
        "colab": {
          "base_uri": "https://localhost:8080/"
        },
        "id": "XM3xT_fH-PnM",
        "outputId": "a6005cc7-dcca-42d9-a1f7-c299488eabdc"
      },
      "execution_count": 84,
      "outputs": [
        {
          "output_type": "execute_result",
          "data": {
            "text/plain": [
              "[array(7.496701, dtype=float32),\n",
              " array(0.6062045, dtype=float32),\n",
              " array(0.07157392, dtype=float32),\n",
              " array(0.0285679, dtype=float32),\n",
              " array(0.02376888, dtype=float32),\n",
              " array(0.02209771, dtype=float32),\n",
              " array(0.02082178, dtype=float32),\n",
              " array(0.01971173, dtype=float32),\n",
              " array(0.01873382, dtype=float32),\n",
              " array(0.01787138, dtype=float32),\n",
              " array(0.01711071, dtype=float32),\n",
              " array(0.01643977, dtype=float32),\n",
              " array(0.01584797, dtype=float32),\n",
              " array(0.015326, dtype=float32),\n",
              " array(0.01486561, dtype=float32),\n",
              " array(0.01445953, dtype=float32),\n",
              " array(0.01410138, dtype=float32),\n",
              " array(0.01378546, dtype=float32),\n",
              " array(0.01350684, dtype=float32),\n",
              " array(0.01326108, dtype=float32)]"
            ]
          },
          "metadata": {},
          "execution_count": 84
        }
      ]
    },
    {
      "cell_type": "code",
      "source": [
        "test_loss_numpy = [i.cpu().detach().numpy() for i in test_loss_values]\n",
        "test_loss_numpy"
      ],
      "metadata": {
        "colab": {
          "base_uri": "https://localhost:8080/"
        },
        "id": "Kc-kM13uAIBb",
        "outputId": "0a361935-a4fd-4c6d-d239-1c0647660612"
      },
      "execution_count": 87,
      "outputs": [
        {
          "output_type": "execute_result",
          "data": {
            "text/plain": [
              "[array(7.363556, dtype=float32),\n",
              " array(0.6275841, dtype=float32),\n",
              " array(0.08141258, dtype=float32),\n",
              " array(0.03074812, dtype=float32),\n",
              " array(0.02335058, dtype=float32),\n",
              " array(0.02083981, dtype=float32),\n",
              " array(0.01926512, dtype=float32),\n",
              " array(0.01802823, dtype=float32),\n",
              " array(0.01698678, dtype=float32),\n",
              " array(0.01609112, dtype=float32),\n",
              " array(0.01531617, dtype=float32),\n",
              " array(0.01464497, dtype=float32),\n",
              " array(0.014064, dtype=float32),\n",
              " array(0.01356184, dtype=float32),\n",
              " array(0.01312849, dtype=float32),\n",
              " array(0.01275527, dtype=float32),\n",
              " array(0.01243453, dtype=float32),\n",
              " array(0.01215957, dtype=float32),\n",
              " array(0.01192448, dtype=float32),\n",
              " array(0.01172406, dtype=float32)]"
            ]
          },
          "metadata": {},
          "execution_count": 87
        }
      ]
    },
    {
      "cell_type": "code",
      "source": [
        "plt.figure(figsize=(10, 7))\n",
        "plt.plot(epoch_count, train_loss_numpy, label=\"train loss\")\n",
        "plt.plot(epoch_count, test_loss_numpy, label=\"test loss\")\n",
        "plt.xlabel(\"Epochs\")\n",
        "plt.ylabel(\"Mean Absolute Error\")\n",
        "plt.title(\"Learning Curve\")\n",
        "plt.legend()\n",
        "plt.show()"
      ],
      "metadata": {
        "colab": {
          "base_uri": "https://localhost:8080/",
          "height": 641
        },
        "id": "QJx72j1KAQv5",
        "outputId": "7c32e082-8787-4ebd-c822-1a3d9b34b5b2"
      },
      "execution_count": 88,
      "outputs": [
        {
          "output_type": "display_data",
          "data": {
            "text/plain": [
              "<Figure size 1000x700 with 1 Axes>"
            ],
            "image/png": "[encoded data removed]"
          },
          "metadata": {}
        }
      ]
    },
    {
      "cell_type": "code",
      "source": [
        "model_1.state_dict()"
      ],
      "metadata": {
        "colab": {
          "base_uri": "https://localhost:8080/"
        },
        "id": "3izJHJ4xAZnG",
        "outputId": "0f62a614-b155-426c-93b8-9a5686ef1a01"
      },
      "execution_count": 89,
      "outputs": [
        {
          "output_type": "execute_result",
          "data": {
            "text/plain": [
              "OrderedDict([('linear_layer.weight', tensor([[1.5472]], device='cuda:0')),\n",
              "             ('linear_layer.bias', tensor([3.1662], device='cuda:0'))])"
            ]
          },
          "metadata": {},
          "execution_count": 89
        }
      ]
    },
    {
      "cell_type": "code",
      "source": [
        "weight, bias"
      ],
      "metadata": {
        "colab": {
          "base_uri": "https://localhost:8080/"
        },
        "id": "tuA40WMnAl8_",
        "outputId": "9eed98d4-33db-4270-e8ee-246556e759ce"
      },
      "execution_count": 90,
      "outputs": [
        {
          "output_type": "execute_result",
          "data": {
            "text/plain": [
              "(1.5, 3.2)"
            ]
          },
          "metadata": {},
          "execution_count": 90
        }
      ]
    },
    {
      "cell_type": "markdown",
      "source": [
        "### Saving the model"
      ],
      "metadata": {
        "id": "MI4vdOPBBGWK"
      }
    },
    {
      "cell_type": "code",
      "source": [
        "model_1.state_dict()"
      ],
      "metadata": {
        "colab": {
          "base_uri": "https://localhost:8080/"
        },
        "id": "-trIqPi_Anj-",
        "outputId": "10b6c759-1194-4dc2-be31-974ad08fbbe6"
      },
      "execution_count": 91,
      "outputs": [
        {
          "output_type": "execute_result",
          "data": {
            "text/plain": [
              "OrderedDict([('linear_layer.weight', tensor([[1.5472]], device='cuda:0')),\n",
              "             ('linear_layer.bias', tensor([3.1662], device='cuda:0'))])"
            ]
          },
          "metadata": {},
          "execution_count": 91
        }
      ]
    },
    {
      "cell_type": "code",
      "source": [
        "PATH = Path(\"models\")\n",
        "PATH.mkdir(parents=True, exist_ok=True)\n",
        "\n",
        "MODEL_NAME = \"model_1.pth\"\n",
        "MODEL_SAVE_PATH = PATH / MODEL_NAME\n",
        "\n",
        "print(f\"Saving model to : {MODEL_SAVE_PATH}\")\n",
        "torch.save(obj=model_1.state_dict(), f=MODEL_SAVE_PATH)"
      ],
      "metadata": {
        "colab": {
          "base_uri": "https://localhost:8080/"
        },
        "id": "_NAFa9TqBVOP",
        "outputId": "0fcc9936-3fef-4b02-d33a-bcedf11ab1ba"
      },
      "execution_count": 92,
      "outputs": [
        {
          "output_type": "stream",
          "name": "stdout",
          "text": [
            "Saving model to : models/model_1.pth\n"
          ]
        }
      ]
    },
    {
      "cell_type": "markdown",
      "source": [
        "## Load model"
      ],
      "metadata": {
        "id": "sudqtPYVBvHg"
      }
    },
    {
      "cell_type": "code",
      "source": [
        "checkpoint = torch.load(MODEL_SAVE_PATH, weights_only=True)\n",
        "checkpoint"
      ],
      "metadata": {
        "colab": {
          "base_uri": "https://localhost:8080/"
        },
        "id": "BTCOSsmwBjSB",
        "outputId": "27750131-6710-4cf5-d458-ea659f85bf91"
      },
      "execution_count": 93,
      "outputs": [
        {
          "output_type": "execute_result",
          "data": {
            "text/plain": [
              "OrderedDict([('linear_layer.weight', tensor([[1.5472]], device='cuda:0')),\n",
              "             ('linear_layer.bias', tensor([3.1662], device='cuda:0'))])"
            ]
          },
          "metadata": {},
          "execution_count": 93
        }
      ]
    },
    {
      "cell_type": "code",
      "source": [
        "loaded_model_1 = LinearRegressionModelV2()\n",
        "loaded_model_1.state_dict()"
      ],
      "metadata": {
        "colab": {
          "base_uri": "https://localhost:8080/"
        },
        "id": "FFfWcrsxBzlZ",
        "outputId": "1e7dfd97-28f3-4dd5-9d39-c0ecfc46217c"
      },
      "execution_count": 94,
      "outputs": [
        {
          "output_type": "execute_result",
          "data": {
            "text/plain": [
              "OrderedDict([('linear_layer.weight', tensor([[0.7645]])),\n",
              "             ('linear_layer.bias', tensor([0.8300]))])"
            ]
          },
          "metadata": {},
          "execution_count": 94
        }
      ]
    },
    {
      "cell_type": "code",
      "source": [
        "loaded_model_1.load_state_dict(checkpoint)"
      ],
      "metadata": {
        "colab": {
          "base_uri": "https://localhost:8080/"
        },
        "id": "HoVvRH-UB58E",
        "outputId": "eff8ac27-4128-4e0e-d90f-e40b6698a072"
      },
      "execution_count": 95,
      "outputs": [
        {
          "output_type": "execute_result",
          "data": {
            "text/plain": [
              "<All keys matched successfully>"
            ]
          },
          "metadata": {},
          "execution_count": 95
        }
      ]
    },
    {
      "cell_type": "code",
      "source": [
        "loaded_model_1.state_dict()"
      ],
      "metadata": {
        "colab": {
          "base_uri": "https://localhost:8080/"
        },
        "id": "Wrxu4i8fB-l_",
        "outputId": "0c044981-c6b8-498f-e324-14966d90a11a"
      },
      "execution_count": 96,
      "outputs": [
        {
          "output_type": "execute_result",
          "data": {
            "text/plain": [
              "OrderedDict([('linear_layer.weight', tensor([[1.5472]])),\n",
              "             ('linear_layer.bias', tensor([3.1662]))])"
            ]
          },
          "metadata": {},
          "execution_count": 96
        }
      ]
    },
    {
      "cell_type": "code",
      "source": [
        "loaded_model_1 = loaded_model_1.to(device)"
      ],
      "metadata": {
        "id": "WGvLmTFxCKiP"
      },
      "execution_count": 98,
      "outputs": []
    },
    {
      "cell_type": "code",
      "source": [
        "loaded_model_1.eval()\n",
        "\n",
        "with torch.inference_mode():\n",
        "  ypred_test = loaded_model_1(xtest)"
      ],
      "metadata": {
        "id": "yEqOtShvCAhO"
      },
      "execution_count": 99,
      "outputs": []
    },
    {
      "cell_type": "code",
      "source": [
        "ypred_test"
      ],
      "metadata": {
        "colab": {
          "base_uri": "https://localhost:8080/"
        },
        "id": "4ayAmznxCIKG",
        "outputId": "25fa91e3-181e-4fd7-f1d5-48bc62c7ac00"
      },
      "execution_count": 100,
      "outputs": [
        {
          "output_type": "execute_result",
          "data": {
            "text/plain": [
              "tensor([[4.4967],\n",
              "        [4.4039],\n",
              "        [4.5896],\n",
              "        [3.5375],\n",
              "        [3.9088],\n",
              "        [4.1254],\n",
              "        [3.6922],\n",
              "        [4.1564],\n",
              "        [3.2590],\n",
              "        [4.0945],\n",
              "        [3.5684],\n",
              "        [3.4137],\n",
              "        [4.6824],\n",
              "        [3.3518],\n",
              "        [4.6205],\n",
              "        [3.2900]], device='cuda:0')"
            ]
          },
          "metadata": {},
          "execution_count": 100
        }
      ]
    },
    {
      "cell_type": "code",
      "source": [
        "ytest"
      ],
      "metadata": {
        "colab": {
          "base_uri": "https://localhost:8080/"
        },
        "id": "n0Ku8vm6CPsa",
        "outputId": "5066ba41-5efa-4aa0-daed-085865369e84"
      },
      "execution_count": 101,
      "outputs": [
        {
          "output_type": "execute_result",
          "data": {
            "text/plain": [
              "tensor([[4.4936],\n",
              "        [4.3210],\n",
              "        [4.6914],\n",
              "        [3.5286],\n",
              "        [3.9120],\n",
              "        [4.2374],\n",
              "        [3.5732],\n",
              "        [4.3316],\n",
              "        [3.3973],\n",
              "        [4.2380],\n",
              "        [3.5612],\n",
              "        [3.6036],\n",
              "        [4.6480],\n",
              "        [3.5077],\n",
              "        [4.5421],\n",
              "        [3.2379]], device='cuda:0')"
            ]
          },
          "metadata": {},
          "execution_count": 101
        }
      ]
    },
    {
      "cell_type": "code",
      "source": [],
      "metadata": {
        "id": "_uDKVYX4CQ2e"
      },
      "execution_count": null,
      "outputs": []
    }
  ]
}