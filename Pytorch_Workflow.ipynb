{
  "nbformat": 4,
  "nbformat_minor": 0,
  "metadata": {
    "colab": {
      "provenance": [],
      "authorship_tag": "ABX9TyMRR9EbXqHIHm4iMQphlZdx",
      "include_colab_link": true
    },
    "kernelspec": {
      "name": "python3",
      "display_name": "Python 3"
    },
    "language_info": {
      "name": "python"
    }
  },
  "cells": [
    {
      "cell_type": "markdown",
      "metadata": {
        "id": "view-in-github",
        "colab_type": "text"
      },
      "source": [
        "<a href=\"https://colab.research.google.com/github/utkarshg1/Pytorch/blob/main/Pytorch_Workflow.ipynb\" target=\"_parent\"><img src=\"https://colab.research.google.com/assets/colab-badge.svg\" alt=\"Open In Colab\"/></a>"
      ]
    },
    {
      "cell_type": "markdown",
      "source": [
        "# Pytorch Workflow"
      ],
      "metadata": {
        "id": "E6KKYVI5PeTp"
      }
    },
    {
      "cell_type": "code",
      "execution_count": 1,
      "metadata": {
        "id": "9FidZr-8PbZd"
      },
      "outputs": [],
      "source": [
        "import torch\n",
        "from torch import nn\n",
        "import matplotlib.pyplot as plt"
      ]
    },
    {
      "cell_type": "code",
      "source": [
        "torch.__version__"
      ],
      "metadata": {
        "colab": {
          "base_uri": "https://localhost:8080/",
          "height": 35
        },
        "id": "Nr9s-D3TPkMf",
        "outputId": "e03e8d7b-21d1-42ef-e176-93c180603643"
      },
      "execution_count": 2,
      "outputs": [
        {
          "output_type": "execute_result",
          "data": {
            "text/plain": [
              "'2.5.1+cu124'"
            ],
            "application/vnd.google.colaboratory.intrinsic+json": {
              "type": "string"
            }
          },
          "metadata": {},
          "execution_count": 2
        }
      ]
    },
    {
      "cell_type": "markdown",
      "source": [
        "## 1. Data Creation"
      ],
      "metadata": {
        "id": "bgWCE9qmQCWr"
      }
    },
    {
      "cell_type": "code",
      "source": [
        "torch.manual_seed(21)\n",
        "weight = 0.7\n",
        "bias = 2.1\n",
        "\n",
        "start = 0\n",
        "end = 1.02\n",
        "step = 0.02\n",
        "\n",
        "X = torch.arange(start, end, step).unsqueeze(dim=1)\n",
        "noise = torch.normal(mean=0.0, std=0.1, size=X.shape)\n",
        "y = weight * X + bias + noise"
      ],
      "metadata": {
        "id": "2mG4WA7ZP4XX"
      },
      "execution_count": 3,
      "outputs": []
    },
    {
      "cell_type": "code",
      "source": [
        "X"
      ],
      "metadata": {
        "colab": {
          "base_uri": "https://localhost:8080/"
        },
        "id": "Wwy0Z_gqRdZ3",
        "outputId": "49642d4a-e54d-49dc-f7e5-5243daca663d"
      },
      "execution_count": 4,
      "outputs": [
        {
          "output_type": "execute_result",
          "data": {
            "text/plain": [
              "tensor([[0.0000],\n",
              "        [0.0200],\n",
              "        [0.0400],\n",
              "        [0.0600],\n",
              "        [0.0800],\n",
              "        [0.1000],\n",
              "        [0.1200],\n",
              "        [0.1400],\n",
              "        [0.1600],\n",
              "        [0.1800],\n",
              "        [0.2000],\n",
              "        [0.2200],\n",
              "        [0.2400],\n",
              "        [0.2600],\n",
              "        [0.2800],\n",
              "        [0.3000],\n",
              "        [0.3200],\n",
              "        [0.3400],\n",
              "        [0.3600],\n",
              "        [0.3800],\n",
              "        [0.4000],\n",
              "        [0.4200],\n",
              "        [0.4400],\n",
              "        [0.4600],\n",
              "        [0.4800],\n",
              "        [0.5000],\n",
              "        [0.5200],\n",
              "        [0.5400],\n",
              "        [0.5600],\n",
              "        [0.5800],\n",
              "        [0.6000],\n",
              "        [0.6200],\n",
              "        [0.6400],\n",
              "        [0.6600],\n",
              "        [0.6800],\n",
              "        [0.7000],\n",
              "        [0.7200],\n",
              "        [0.7400],\n",
              "        [0.7600],\n",
              "        [0.7800],\n",
              "        [0.8000],\n",
              "        [0.8200],\n",
              "        [0.8400],\n",
              "        [0.8600],\n",
              "        [0.8800],\n",
              "        [0.9000],\n",
              "        [0.9200],\n",
              "        [0.9400],\n",
              "        [0.9600],\n",
              "        [0.9800],\n",
              "        [1.0000]])"
            ]
          },
          "metadata": {},
          "execution_count": 4
        }
      ]
    },
    {
      "cell_type": "code",
      "source": [
        "y"
      ],
      "metadata": {
        "colab": {
          "base_uri": "https://localhost:8080/"
        },
        "id": "GrU6O61gReEe",
        "outputId": "8f444cf3-701e-4391-e4ef-b86d51a0bfef"
      },
      "execution_count": 5,
      "outputs": [
        {
          "output_type": "execute_result",
          "data": {
            "text/plain": [
              "tensor([[2.0761],\n",
              "        [2.0047],\n",
              "        [2.1436],\n",
              "        [2.1595],\n",
              "        [2.0607],\n",
              "        [2.1156],\n",
              "        [2.3039],\n",
              "        [2.2940],\n",
              "        [2.1013],\n",
              "        [2.1420],\n",
              "        [2.2398],\n",
              "        [2.2764],\n",
              "        [2.3557],\n",
              "        [2.2282],\n",
              "        [2.2661],\n",
              "        [2.4079],\n",
              "        [2.4822],\n",
              "        [2.3116],\n",
              "        [2.2703],\n",
              "        [2.5088],\n",
              "        [2.5560],\n",
              "        [2.5115],\n",
              "        [2.4344],\n",
              "        [2.3536],\n",
              "        [2.5661],\n",
              "        [2.4489],\n",
              "        [2.4047],\n",
              "        [2.5484],\n",
              "        [2.4444],\n",
              "        [2.4962],\n",
              "        [2.5411],\n",
              "        [2.5093],\n",
              "        [2.4921],\n",
              "        [2.6146],\n",
              "        [2.4971],\n",
              "        [2.5268],\n",
              "        [2.6121],\n",
              "        [2.5872],\n",
              "        [2.7060],\n",
              "        [2.5804],\n",
              "        [2.5896],\n",
              "        [2.6880],\n",
              "        [2.6017],\n",
              "        [2.5938],\n",
              "        [2.6376],\n",
              "        [2.8166],\n",
              "        [2.4947],\n",
              "        [2.5898],\n",
              "        [2.8590],\n",
              "        [2.7171],\n",
              "        [2.6737]])"
            ]
          },
          "metadata": {},
          "execution_count": 5
        }
      ]
    },
    {
      "cell_type": "code",
      "source": [
        "plt.scatter(X, y)"
      ],
      "metadata": {
        "colab": {
          "base_uri": "https://localhost:8080/",
          "height": 447
        },
        "id": "y7NN9hmgRgwv",
        "outputId": "46e6f898-6e2b-4626-9ed1-48fc69616266"
      },
      "execution_count": 6,
      "outputs": [
        {
          "output_type": "execute_result",
          "data": {
            "text/plain": [
              "<matplotlib.collections.PathCollection at 0x792ea3082bd0>"
            ]
          },
          "metadata": {},
          "execution_count": 6
        },
        {
          "output_type": "display_data",
          "data": {
            "text/plain": [
              "<Figure size 640x480 with 1 Axes>"
            ],
            "image/png": "[encoded data removed]"
          },
          "metadata": {}
        }
      ]
    },
    {
      "cell_type": "code",
      "source": [
        "X.shape"
      ],
      "metadata": {
        "colab": {
          "base_uri": "https://localhost:8080/"
        },
        "id": "ZL8XyYhQR0QV",
        "outputId": "a5936a95-f002-4ac6-a50b-1b0ad6d4aab4"
      },
      "execution_count": 7,
      "outputs": [
        {
          "output_type": "execute_result",
          "data": {
            "text/plain": [
              "torch.Size([51, 1])"
            ]
          },
          "metadata": {},
          "execution_count": 7
        }
      ]
    },
    {
      "cell_type": "code",
      "source": [
        "y.shape"
      ],
      "metadata": {
        "colab": {
          "base_uri": "https://localhost:8080/"
        },
        "id": "iD2cxGYcSdEt",
        "outputId": "fd6bc6ee-0ece-4f33-b355-ed6c0c4d3276"
      },
      "execution_count": 8,
      "outputs": [
        {
          "output_type": "execute_result",
          "data": {
            "text/plain": [
              "torch.Size([51, 1])"
            ]
          },
          "metadata": {},
          "execution_count": 8
        }
      ]
    },
    {
      "cell_type": "code",
      "source": [
        "X.dtype"
      ],
      "metadata": {
        "colab": {
          "base_uri": "https://localhost:8080/"
        },
        "id": "4DzD6N_SS-DV",
        "outputId": "1931e514-1f89-4f89-c95b-fbb13a7087ad"
      },
      "execution_count": 9,
      "outputs": [
        {
          "output_type": "execute_result",
          "data": {
            "text/plain": [
              "torch.float32"
            ]
          },
          "metadata": {},
          "execution_count": 9
        }
      ]
    },
    {
      "cell_type": "code",
      "source": [
        "y.dtype"
      ],
      "metadata": {
        "colab": {
          "base_uri": "https://localhost:8080/"
        },
        "id": "sJRQTDAaS-7U",
        "outputId": "d6adc971-f8d2-4c56-dcf7-ef080afcd017"
      },
      "execution_count": 10,
      "outputs": [
        {
          "output_type": "execute_result",
          "data": {
            "text/plain": [
              "torch.float32"
            ]
          },
          "metadata": {},
          "execution_count": 10
        }
      ]
    },
    {
      "cell_type": "markdown",
      "source": [
        "## 2. Train Test Split"
      ],
      "metadata": {
        "id": "vBfkMikCTm9r"
      }
    },
    {
      "cell_type": "code",
      "source": [
        "from sklearn.model_selection import train_test_split"
      ],
      "metadata": {
        "id": "GlRI41gMS_02"
      },
      "execution_count": 11,
      "outputs": []
    },
    {
      "cell_type": "code",
      "source": [
        "xtrain, xtest, ytrain, ytest = train_test_split(X, y, test_size=0.2, random_state=42)"
      ],
      "metadata": {
        "id": "k7qq5roST0yn"
      },
      "execution_count": 12,
      "outputs": []
    },
    {
      "cell_type": "code",
      "source": [
        "xtrain.shape"
      ],
      "metadata": {
        "colab": {
          "base_uri": "https://localhost:8080/"
        },
        "id": "tTOSiEo5T7eU",
        "outputId": "777a9ed1-d8b1-490a-adb2-1240fe196542"
      },
      "execution_count": 13,
      "outputs": [
        {
          "output_type": "execute_result",
          "data": {
            "text/plain": [
              "torch.Size([40, 1])"
            ]
          },
          "metadata": {},
          "execution_count": 13
        }
      ]
    },
    {
      "cell_type": "code",
      "source": [
        "ytrain.shape"
      ],
      "metadata": {
        "colab": {
          "base_uri": "https://localhost:8080/"
        },
        "id": "hbBa1AkZT78_",
        "outputId": "bfbd9472-df68-4bf6-ec9b-0984b1d1ce28"
      },
      "execution_count": 14,
      "outputs": [
        {
          "output_type": "execute_result",
          "data": {
            "text/plain": [
              "torch.Size([40, 1])"
            ]
          },
          "metadata": {},
          "execution_count": 14
        }
      ]
    },
    {
      "cell_type": "code",
      "source": [
        "xtest.shape"
      ],
      "metadata": {
        "colab": {
          "base_uri": "https://localhost:8080/"
        },
        "id": "6YkYmBxvT_L-",
        "outputId": "d4931534-88ff-4c44-e85a-8ddc655547ad"
      },
      "execution_count": 15,
      "outputs": [
        {
          "output_type": "execute_result",
          "data": {
            "text/plain": [
              "torch.Size([11, 1])"
            ]
          },
          "metadata": {},
          "execution_count": 15
        }
      ]
    },
    {
      "cell_type": "code",
      "source": [
        "ytest.shape"
      ],
      "metadata": {
        "colab": {
          "base_uri": "https://localhost:8080/"
        },
        "id": "bM_waScDUADx",
        "outputId": "5ea13f67-a9c4-4294-dcb9-97c6aec205fa"
      },
      "execution_count": 16,
      "outputs": [
        {
          "output_type": "execute_result",
          "data": {
            "text/plain": [
              "torch.Size([11, 1])"
            ]
          },
          "metadata": {},
          "execution_count": 16
        }
      ]
    },
    {
      "cell_type": "markdown",
      "source": [
        "## 3. Visualize data"
      ],
      "metadata": {
        "id": "jvgoZ5D3Ulk5"
      }
    },
    {
      "cell_type": "code",
      "source": [
        "def plot_predictions(xtrain, ytrain, xtest, ytest, predictions=None):\n",
        "  plt.figure(figsize=(10, 7))\n",
        "  plt.scatter(xtrain, ytrain, label=\"train\")\n",
        "  plt.scatter(xtest, ytest, label=\"test\")\n",
        "  if predictions is not None:\n",
        "    plt.plot(xtest, predictions, label=\"predictions\", c=\"orange\")\n",
        "  plt.legend()\n",
        "  plt.show()"
      ],
      "metadata": {
        "id": "wuqFjxv_UpAS"
      },
      "execution_count": 17,
      "outputs": []
    },
    {
      "cell_type": "code",
      "source": [
        "plot_predictions(xtrain, ytrain, xtest, ytest)"
      ],
      "metadata": {
        "colab": {
          "base_uri": "https://localhost:8080/",
          "height": 599
        },
        "id": "KLuBaM6EUA3X",
        "outputId": "0ea1a272-a533-476a-d5ca-a02dbf95767f"
      },
      "execution_count": 18,
      "outputs": [
        {
          "output_type": "display_data",
          "data": {
            "text/plain": [
              "<Figure size 1000x700 with 1 Axes>"
            ],
            "image/png": "[encoded data removed]"
          },
          "metadata": {}
        }
      ]
    },
    {
      "cell_type": "markdown",
      "source": [
        "## 4. Building Model"
      ],
      "metadata": {
        "id": "01jwhjEpVmpv"
      }
    },
    {
      "cell_type": "code",
      "source": [
        "class LinearRegressionModel(nn.Module):\n",
        "\n",
        "  def __init__(self):\n",
        "    super().__init__()\n",
        "    self.weights = nn.Parameter(torch.randn(1, requires_grad=True, dtype=torch.float))\n",
        "    self.bias = nn.Parameter(torch.randn(1, requires_grad=True, dtype=torch.float))\n",
        "\n",
        "  def forward(self, x: torch.Tensor) -> torch.Tensor:\n",
        "    return self.weights * x + self.bias\n"
      ],
      "metadata": {
        "id": "SSrtAOjUUKzX"
      },
      "execution_count": 19,
      "outputs": []
    },
    {
      "cell_type": "markdown",
      "source": [
        "### Checking pytorch model"
      ],
      "metadata": {
        "id": "TlD4FMdgZsmp"
      }
    },
    {
      "cell_type": "code",
      "source": [
        "torch.manual_seed(42)\n",
        "\n",
        "model_0 = LinearRegressionModel()\n",
        "\n",
        "model_0"
      ],
      "metadata": {
        "colab": {
          "base_uri": "https://localhost:8080/"
        },
        "id": "WZcTWyrCYNLe",
        "outputId": "5965622c-e281-4c20-854c-a52982676970"
      },
      "execution_count": 20,
      "outputs": [
        {
          "output_type": "execute_result",
          "data": {
            "text/plain": [
              "LinearRegressionModel()"
            ]
          },
          "metadata": {},
          "execution_count": 20
        }
      ]
    },
    {
      "cell_type": "code",
      "source": [
        "list(model_0.parameters())"
      ],
      "metadata": {
        "colab": {
          "base_uri": "https://localhost:8080/"
        },
        "id": "Dex0q0FMZ8cC",
        "outputId": "a661b6d1-1e4e-4568-833b-fc0a4343231d"
      },
      "execution_count": 21,
      "outputs": [
        {
          "output_type": "execute_result",
          "data": {
            "text/plain": [
              "[Parameter containing:\n",
              " tensor([0.3367], requires_grad=True),\n",
              " Parameter containing:\n",
              " tensor([0.1288], requires_grad=True)]"
            ]
          },
          "metadata": {},
          "execution_count": 21
        }
      ]
    },
    {
      "cell_type": "code",
      "source": [
        "model_0.state_dict()"
      ],
      "metadata": {
        "colab": {
          "base_uri": "https://localhost:8080/"
        },
        "id": "_ZKW5FcCc2hb",
        "outputId": "bb0cdeef-5b14-48a4-d3ce-d646cc680f65"
      },
      "execution_count": 22,
      "outputs": [
        {
          "output_type": "execute_result",
          "data": {
            "text/plain": [
              "OrderedDict([('weights', tensor([0.3367])), ('bias', tensor([0.1288]))])"
            ]
          },
          "metadata": {},
          "execution_count": 22
        }
      ]
    },
    {
      "cell_type": "code",
      "source": [
        "weight, bias"
      ],
      "metadata": {
        "colab": {
          "base_uri": "https://localhost:8080/"
        },
        "id": "1wpoD3KydR8b",
        "outputId": "d6cb95c5-e4d5-4912-ffc4-1a7bcb15595c"
      },
      "execution_count": 23,
      "outputs": [
        {
          "output_type": "execute_result",
          "data": {
            "text/plain": [
              "(0.7, 2.1)"
            ]
          },
          "metadata": {},
          "execution_count": 23
        }
      ]
    },
    {
      "cell_type": "code",
      "source": [
        "with torch.inference_mode():\n",
        "  ypred_test = model_0(xtest)"
      ],
      "metadata": {
        "id": "f4CNBoioec4W"
      },
      "execution_count": 24,
      "outputs": []
    },
    {
      "cell_type": "code",
      "source": [
        "ypred_test"
      ],
      "metadata": {
        "colab": {
          "base_uri": "https://localhost:8080/"
        },
        "id": "O6OLYN6bfNCF",
        "outputId": "16bffcb9-7d68-4045-b2b7-d56e68aa6148"
      },
      "execution_count": 25,
      "outputs": [
        {
          "output_type": "execute_result",
          "data": {
            "text/plain": [
              "tensor([[0.4184],\n",
              "        [0.3982],\n",
              "        [0.4386],\n",
              "        [0.2096],\n",
              "        [0.2904],\n",
              "        [0.3376],\n",
              "        [0.2433],\n",
              "        [0.3443],\n",
              "        [0.1490],\n",
              "        [0.3308],\n",
              "        [0.2163]])"
            ]
          },
          "metadata": {},
          "execution_count": 25
        }
      ]
    },
    {
      "cell_type": "code",
      "source": [
        "ytest"
      ],
      "metadata": {
        "colab": {
          "base_uri": "https://localhost:8080/"
        },
        "id": "RMg13BIXfNt8",
        "outputId": "c8a08ab2-3176-463b-a60e-56f1887bca8a"
      },
      "execution_count": 26,
      "outputs": [
        {
          "output_type": "execute_result",
          "data": {
            "text/plain": [
              "tensor([[2.5938],\n",
              "        [2.5896],\n",
              "        [2.4947],\n",
              "        [2.3557],\n",
              "        [2.5661],\n",
              "        [2.5093],\n",
              "        [2.3116],\n",
              "        [2.4921],\n",
              "        [2.1595],\n",
              "        [2.5411],\n",
              "        [2.2282]])"
            ]
          },
          "metadata": {},
          "execution_count": 26
        }
      ]
    },
    {
      "cell_type": "code",
      "source": [
        "plot_predictions(xtrain, ytrain, xtest, ytest, predictions=ypred_test)"
      ],
      "metadata": {
        "colab": {
          "base_uri": "https://localhost:8080/",
          "height": 599
        },
        "id": "r5EZxMZ3fPGC",
        "outputId": "95f1fc2f-97de-4b00-c26e-7c3de1eb535c"
      },
      "execution_count": 27,
      "outputs": [
        {
          "output_type": "display_data",
          "data": {
            "text/plain": [
              "<Figure size 1000x700 with 1 Axes>"
            ],
            "image/png": "[encoded data removed]"
          },
          "metadata": {}
        }
      ]
    },
    {
      "cell_type": "markdown",
      "source": [
        "### Training Loop"
      ],
      "metadata": {
        "id": "GGS4MPm1hCAh"
      }
    },
    {
      "cell_type": "code",
      "source": [
        "loss_fn = nn.L1Loss()"
      ],
      "metadata": {
        "id": "-IHGxd-JffHU"
      },
      "execution_count": 28,
      "outputs": []
    },
    {
      "cell_type": "code",
      "source": [
        "loss_fn"
      ],
      "metadata": {
        "colab": {
          "base_uri": "https://localhost:8080/"
        },
        "id": "FdUxJyOUhI4L",
        "outputId": "a9f2ec46-6c93-4f6d-aa07-2d8fbf63f3d9"
      },
      "execution_count": 29,
      "outputs": [
        {
          "output_type": "execute_result",
          "data": {
            "text/plain": [
              "L1Loss()"
            ]
          },
          "metadata": {},
          "execution_count": 29
        }
      ]
    },
    {
      "cell_type": "code",
      "source": [
        "optimizer = torch.optim.SGD(params=model_0.parameters(), lr=0.01)"
      ],
      "metadata": {
        "id": "GdLhUiy7hJV5"
      },
      "execution_count": 30,
      "outputs": []
    },
    {
      "cell_type": "code",
      "source": [
        "optimizer"
      ],
      "metadata": {
        "colab": {
          "base_uri": "https://localhost:8080/"
        },
        "id": "bmsF85nSiBjK",
        "outputId": "f3d8e708-6d7d-4528-d0f9-e763e7e409f1"
      },
      "execution_count": 31,
      "outputs": [
        {
          "output_type": "execute_result",
          "data": {
            "text/plain": [
              "SGD (\n",
              "Parameter Group 0\n",
              "    dampening: 0\n",
              "    differentiable: False\n",
              "    foreach: None\n",
              "    fused: None\n",
              "    lr: 0.01\n",
              "    maximize: False\n",
              "    momentum: 0\n",
              "    nesterov: False\n",
              "    weight_decay: 0\n",
              ")"
            ]
          },
          "metadata": {},
          "execution_count": 31
        }
      ]
    },
    {
      "cell_type": "code",
      "source": [
        "torch.manual_seed(42)\n",
        "epochs = 1000\n",
        "\n",
        "epoch_count = []\n",
        "train_loss_values = []\n",
        "test_loss_values = []\n",
        "\n",
        "for epoch in range(epochs):\n",
        "  # Training loop\n",
        "  model_0.train()\n",
        "  ypred = model_0(xtrain)\n",
        "  loss = loss_fn(ypred, ytrain)\n",
        "  optimizer.zero_grad()\n",
        "  loss.backward()\n",
        "  optimizer.step()\n",
        "\n",
        "  # Testing Loop\n",
        "  model_0.eval()\n",
        "\n",
        "  with torch.inference_mode():\n",
        "    ypred_test = model_0(xtest)\n",
        "\n",
        "  test_loss = loss_fn(ypred_test, ytest)\n",
        "\n",
        "  if epoch % 50 == 0:\n",
        "    epoch_count.append(epoch)\n",
        "    train_loss_values.append(loss)\n",
        "    test_loss_values.append(test_loss)\n",
        "    print(f\"Epoch: {epoch} | Train Loss: {loss} | Test Loss: {test_loss}\")\n",
        "    print(f\"Params {model_0.state_dict()}\")\n"
      ],
      "metadata": {
        "colab": {
          "base_uri": "https://localhost:8080/"
        },
        "id": "UjNhNFutiEFQ",
        "outputId": "29ef698c-ca2f-4a10-9329-05f765b41a10"
      },
      "execution_count": 32,
      "outputs": [
        {
          "output_type": "stream",
          "name": "stdout",
          "text": [
            "Epoch: 0 | Train Loss: 2.145509958267212 | Test Loss: 2.120610237121582\n",
            "Params OrderedDict([('weights', tensor([0.3416])), ('bias', tensor([0.1388]))])\n",
            "Epoch: 50 | Train Loss: 1.5244779586791992 | Test Loss: 1.490453839302063\n",
            "Params OrderedDict([('weights', tensor([0.5876])), ('bias', tensor([0.6388]))])\n",
            "Epoch: 100 | Train Loss: 0.9034463167190552 | Test Loss: 0.8602976202964783\n",
            "Params OrderedDict([('weights', tensor([0.8336])), ('bias', tensor([1.1388]))])\n",
            "Epoch: 150 | Train Loss: 0.288920134305954 | Test Loss: 0.25860288739204407\n",
            "Params OrderedDict([('weights', tensor([1.0767])), ('bias', tensor([1.6358]))])\n",
            "Epoch: 200 | Train Loss: 0.1336853802204132 | Test Loss: 0.15124475955963135\n",
            "Params OrderedDict([('weights', tensor([1.0986])), ('bias', tensor([1.8623]))])\n",
            "Epoch: 250 | Train Loss: 0.11172749102115631 | Test Loss: 0.13135486841201782\n",
            "Params OrderedDict([('weights', tensor([1.0116])), ('bias', tensor([1.9193]))])\n",
            "Epoch: 300 | Train Loss: 0.09352409839630127 | Test Loss: 0.11323831230401993\n",
            "Params OrderedDict([('weights', tensor([0.9319])), ('bias', tensor([1.9703]))])\n",
            "Epoch: 350 | Train Loss: 0.08505965024232864 | Test Loss: 0.10165708512067795\n",
            "Params OrderedDict([('weights', tensor([0.8744])), ('bias', tensor([1.9908]))])\n",
            "Epoch: 400 | Train Loss: 0.0805635154247284 | Test Loss: 0.09285300225019455\n",
            "Params OrderedDict([('weights', tensor([0.8329])), ('bias', tensor([2.0128]))])\n",
            "Epoch: 450 | Train Loss: 0.07670627534389496 | Test Loss: 0.08706147223711014\n",
            "Params OrderedDict([('weights', tensor([0.7963])), ('bias', tensor([2.0363]))])\n",
            "Epoch: 500 | Train Loss: 0.07507193088531494 | Test Loss: 0.08325503021478653\n",
            "Params OrderedDict([('weights', tensor([0.7724])), ('bias', tensor([2.0498]))])\n",
            "Epoch: 550 | Train Loss: 0.07408095896244049 | Test Loss: 0.08047402650117874\n",
            "Params OrderedDict([('weights', tensor([0.7526])), ('bias', tensor([2.0598]))])\n",
            "Epoch: 600 | Train Loss: 0.0731399655342102 | Test Loss: 0.07829392701387405\n",
            "Params OrderedDict([('weights', tensor([0.7339])), ('bias', tensor([2.0708]))])\n",
            "Epoch: 650 | Train Loss: 0.07253026217222214 | Test Loss: 0.07558215409517288\n",
            "Params OrderedDict([('weights', tensor([0.7188])), ('bias', tensor([2.0763]))])\n",
            "Epoch: 700 | Train Loss: 0.07230976223945618 | Test Loss: 0.07266142219305038\n",
            "Params OrderedDict([('weights', tensor([0.7083])), ('bias', tensor([2.0763]))])\n",
            "Epoch: 750 | Train Loss: 0.0720892995595932 | Test Loss: 0.06980332732200623\n",
            "Params OrderedDict([('weights', tensor([0.6978])), ('bias', tensor([2.0763]))])\n",
            "Epoch: 800 | Train Loss: 0.07189209759235382 | Test Loss: 0.06838618963956833\n",
            "Params OrderedDict([('weights', tensor([0.6884])), ('bias', tensor([2.0778]))])\n",
            "Epoch: 850 | Train Loss: 0.07174931466579437 | Test Loss: 0.06771564483642578\n",
            "Params OrderedDict([('weights', tensor([0.6816])), ('bias', tensor([2.0828]))])\n",
            "Epoch: 900 | Train Loss: 0.07160651683807373 | Test Loss: 0.06704512238502502\n",
            "Params OrderedDict([('weights', tensor([0.6748])), ('bias', tensor([2.0878]))])\n",
            "Epoch: 950 | Train Loss: 0.07146371901035309 | Test Loss: 0.06637456268072128\n",
            "Params OrderedDict([('weights', tensor([0.6680])), ('bias', tensor([2.0928]))])\n"
          ]
        }
      ]
    },
    {
      "cell_type": "code",
      "source": [
        "with torch.inference_mode():\n",
        "  ypred_test = model_0(xtest)"
      ],
      "metadata": {
        "id": "Q0U3WfRrn7_C"
      },
      "execution_count": 33,
      "outputs": []
    },
    {
      "cell_type": "code",
      "source": [
        "plot_predictions(xtrain, ytrain, xtest, ytest, predictions=ypred_test)"
      ],
      "metadata": {
        "colab": {
          "base_uri": "https://localhost:8080/",
          "height": 599
        },
        "id": "xXz0ZH06qJNZ",
        "outputId": "c9998b71-58e5-47ae-8919-b9fba6ea67da"
      },
      "execution_count": 34,
      "outputs": [
        {
          "output_type": "display_data",
          "data": {
            "text/plain": [
              "<Figure size 1000x700 with 1 Axes>"
            ],
            "image/png": "[encoded data removed]"
          },
          "metadata": {}
        }
      ]
    },
    {
      "cell_type": "code",
      "source": [
        "train_loss_values"
      ],
      "metadata": {
        "colab": {
          "base_uri": "https://localhost:8080/"
        },
        "id": "CcNFmaYlqPp7",
        "outputId": "27c5dd52-29c4-4f54-9502-4edc9af86918"
      },
      "execution_count": 35,
      "outputs": [
        {
          "output_type": "execute_result",
          "data": {
            "text/plain": [
              "[tensor(2.1455, grad_fn=<MeanBackward0>),\n",
              " tensor(1.5245, grad_fn=<MeanBackward0>),\n",
              " tensor(0.9034, grad_fn=<MeanBackward0>),\n",
              " tensor(0.2889, grad_fn=<MeanBackward0>),\n",
              " tensor(0.1337, grad_fn=<MeanBackward0>),\n",
              " tensor(0.1117, grad_fn=<MeanBackward0>),\n",
              " tensor(0.0935, grad_fn=<MeanBackward0>),\n",
              " tensor(0.0851, grad_fn=<MeanBackward0>),\n",
              " tensor(0.0806, grad_fn=<MeanBackward0>),\n",
              " tensor(0.0767, grad_fn=<MeanBackward0>),\n",
              " tensor(0.0751, grad_fn=<MeanBackward0>),\n",
              " tensor(0.0741, grad_fn=<MeanBackward0>),\n",
              " tensor(0.0731, grad_fn=<MeanBackward0>),\n",
              " tensor(0.0725, grad_fn=<MeanBackward0>),\n",
              " tensor(0.0723, grad_fn=<MeanBackward0>),\n",
              " tensor(0.0721, grad_fn=<MeanBackward0>),\n",
              " tensor(0.0719, grad_fn=<MeanBackward0>),\n",
              " tensor(0.0717, grad_fn=<MeanBackward0>),\n",
              " tensor(0.0716, grad_fn=<MeanBackward0>),\n",
              " tensor(0.0715, grad_fn=<MeanBackward0>)]"
            ]
          },
          "metadata": {},
          "execution_count": 35
        }
      ]
    },
    {
      "cell_type": "code",
      "source": [
        "train_loss_numpy = [i.detach().numpy() for i in train_loss_values]\n",
        "train_loss_numpy"
      ],
      "metadata": {
        "colab": {
          "base_uri": "https://localhost:8080/"
        },
        "id": "trPzOyVuvyKw",
        "outputId": "1dbe8e50-4684-42fa-d445-877cebac7c11"
      },
      "execution_count": 36,
      "outputs": [
        {
          "output_type": "execute_result",
          "data": {
            "text/plain": [
              "[array(2.14551, dtype=float32),\n",
              " array(1.524478, dtype=float32),\n",
              " array(0.9034463, dtype=float32),\n",
              " array(0.28892013, dtype=float32),\n",
              " array(0.13368538, dtype=float32),\n",
              " array(0.11172749, dtype=float32),\n",
              " array(0.0935241, dtype=float32),\n",
              " array(0.08505965, dtype=float32),\n",
              " array(0.08056352, dtype=float32),\n",
              " array(0.07670628, dtype=float32),\n",
              " array(0.07507193, dtype=float32),\n",
              " array(0.07408096, dtype=float32),\n",
              " array(0.07313997, dtype=float32),\n",
              " array(0.07253026, dtype=float32),\n",
              " array(0.07230976, dtype=float32),\n",
              " array(0.0720893, dtype=float32),\n",
              " array(0.0718921, dtype=float32),\n",
              " array(0.07174931, dtype=float32),\n",
              " array(0.07160652, dtype=float32),\n",
              " array(0.07146372, dtype=float32)]"
            ]
          },
          "metadata": {},
          "execution_count": 36
        }
      ]
    },
    {
      "cell_type": "code",
      "source": [
        "test_loss_values"
      ],
      "metadata": {
        "colab": {
          "base_uri": "https://localhost:8080/"
        },
        "id": "XTDGFGtluvhy",
        "outputId": "daa81754-ded5-4853-d1ee-bad441a0dcae"
      },
      "execution_count": 37,
      "outputs": [
        {
          "output_type": "execute_result",
          "data": {
            "text/plain": [
              "[tensor(2.1206),\n",
              " tensor(1.4905),\n",
              " tensor(0.8603),\n",
              " tensor(0.2586),\n",
              " tensor(0.1512),\n",
              " tensor(0.1314),\n",
              " tensor(0.1132),\n",
              " tensor(0.1017),\n",
              " tensor(0.0929),\n",
              " tensor(0.0871),\n",
              " tensor(0.0833),\n",
              " tensor(0.0805),\n",
              " tensor(0.0783),\n",
              " tensor(0.0756),\n",
              " tensor(0.0727),\n",
              " tensor(0.0698),\n",
              " tensor(0.0684),\n",
              " tensor(0.0677),\n",
              " tensor(0.0670),\n",
              " tensor(0.0664)]"
            ]
          },
          "metadata": {},
          "execution_count": 37
        }
      ]
    },
    {
      "cell_type": "code",
      "source": [
        "test_loss_numpy = [i.detach().numpy() for i in test_loss_values]\n",
        "test_loss_numpy"
      ],
      "metadata": {
        "colab": {
          "base_uri": "https://localhost:8080/"
        },
        "id": "hY4M7y8NwFZi",
        "outputId": "49e99683-ad47-41d9-9f3a-840e843df52e"
      },
      "execution_count": 38,
      "outputs": [
        {
          "output_type": "execute_result",
          "data": {
            "text/plain": [
              "[array(2.1206102, dtype=float32),\n",
              " array(1.4904538, dtype=float32),\n",
              " array(0.8602976, dtype=float32),\n",
              " array(0.2586029, dtype=float32),\n",
              " array(0.15124476, dtype=float32),\n",
              " array(0.13135487, dtype=float32),\n",
              " array(0.11323831, dtype=float32),\n",
              " array(0.10165709, dtype=float32),\n",
              " array(0.092853, dtype=float32),\n",
              " array(0.08706147, dtype=float32),\n",
              " array(0.08325503, dtype=float32),\n",
              " array(0.08047403, dtype=float32),\n",
              " array(0.07829393, dtype=float32),\n",
              " array(0.07558215, dtype=float32),\n",
              " array(0.07266142, dtype=float32),\n",
              " array(0.06980333, dtype=float32),\n",
              " array(0.06838619, dtype=float32),\n",
              " array(0.06771564, dtype=float32),\n",
              " array(0.06704512, dtype=float32),\n",
              " array(0.06637456, dtype=float32)]"
            ]
          },
          "metadata": {},
          "execution_count": 38
        }
      ]
    },
    {
      "cell_type": "code",
      "source": [
        "plt.figure(figsize=(10, 7))\n",
        "plt.plot(epoch_count, train_loss_numpy, label=\"train loss\")\n",
        "plt.plot(epoch_count, test_loss_numpy, label=\"test loss\")\n",
        "plt.xlabel(\"Epochs\")\n",
        "plt.ylabel(\"Mean Absolute Error\")\n",
        "plt.title(\"Learning Curve\")\n",
        "plt.legend()\n",
        "plt.show()"
      ],
      "metadata": {
        "colab": {
          "base_uri": "https://localhost:8080/",
          "height": 641
        },
        "id": "ym0jq9-tuzga",
        "outputId": "99afed80-e893-4bf3-b21a-73232674af46"
      },
      "execution_count": 39,
      "outputs": [
        {
          "output_type": "display_data",
          "data": {
            "text/plain": [
              "<Figure size 1000x700 with 1 Axes>"
            ],
            "image/png": "[encoded data removed]"
          },
          "metadata": {}
        }
      ]
    },
    {
      "cell_type": "markdown",
      "source": [
        "## Saving a model in pytorch"
      ],
      "metadata": {
        "id": "1mZWriBvyXDO"
      }
    },
    {
      "cell_type": "code",
      "source": [
        "model_0.state_dict()"
      ],
      "metadata": {
        "colab": {
          "base_uri": "https://localhost:8080/"
        },
        "id": "hA39FNa5vS9y",
        "outputId": "00f1e28b-fbaf-404e-8e45-4b2484b1dc2d"
      },
      "execution_count": 40,
      "outputs": [
        {
          "output_type": "execute_result",
          "data": {
            "text/plain": [
              "OrderedDict([('weights', tensor([0.6614])), ('bias', tensor([2.0978]))])"
            ]
          },
          "metadata": {},
          "execution_count": 40
        }
      ]
    },
    {
      "cell_type": "code",
      "source": [
        "from pathlib import Path"
      ],
      "metadata": {
        "id": "OUR8Ii-kyfTZ"
      },
      "execution_count": 41,
      "outputs": []
    },
    {
      "cell_type": "code",
      "source": [
        "MODEL_PATH = Path(\"models\")\n",
        "MODEL_PATH.mkdir(parents=True, exist_ok=True)\n",
        "\n",
        "MODEL_NAME = \"model_0.pth\"\n",
        "MODEL_SAVE_PATH = MODEL_PATH / MODEL_NAME\n",
        "\n",
        "print(f\"Saving Model to : {MODEL_SAVE_PATH}\")\n",
        "torch.save(obj=model_0.state_dict(), f=MODEL_SAVE_PATH)"
      ],
      "metadata": {
        "colab": {
          "base_uri": "https://localhost:8080/"
        },
        "id": "ghTrwhECy77l",
        "outputId": "90617154-c6e1-4cac-d334-387e8b53fe9e"
      },
      "execution_count": 46,
      "outputs": [
        {
          "output_type": "stream",
          "name": "stdout",
          "text": [
            "Saving Model to : models/model_0.pth\n"
          ]
        }
      ]
    },
    {
      "cell_type": "markdown",
      "source": [
        "## Loading model"
      ],
      "metadata": {
        "id": "1bqhWM2h04CR"
      }
    },
    {
      "cell_type": "code",
      "source": [
        "checkpoint = torch.load(MODEL_SAVE_PATH, weights_only=True)\n",
        "checkpoint"
      ],
      "metadata": {
        "colab": {
          "base_uri": "https://localhost:8080/"
        },
        "id": "Y9-HBj28zgs1",
        "outputId": "db4f39ca-4357-4857-b248-c7ab831548f6"
      },
      "execution_count": 47,
      "outputs": [
        {
          "output_type": "execute_result",
          "data": {
            "text/plain": [
              "OrderedDict([('weights', tensor([0.6614])), ('bias', tensor([2.0978]))])"
            ]
          },
          "metadata": {},
          "execution_count": 47
        }
      ]
    },
    {
      "cell_type": "code",
      "source": [
        "model_1 = LinearRegressionModel()\n",
        "model_1.state_dict()"
      ],
      "metadata": {
        "colab": {
          "base_uri": "https://localhost:8080/"
        },
        "id": "y6st1Gb71CK6",
        "outputId": "3c4dedcc-6397-4e5e-b114-3423e257c2f9"
      },
      "execution_count": 48,
      "outputs": [
        {
          "output_type": "execute_result",
          "data": {
            "text/plain": [
              "OrderedDict([('weights', tensor([0.3367])), ('bias', tensor([0.1288]))])"
            ]
          },
          "metadata": {},
          "execution_count": 48
        }
      ]
    },
    {
      "cell_type": "code",
      "source": [
        "model_1.load_state_dict(checkpoint)"
      ],
      "metadata": {
        "colab": {
          "base_uri": "https://localhost:8080/"
        },
        "id": "wsIBC-UO1K9O",
        "outputId": "b7b540a9-becb-40f9-af34-64ae39dda762"
      },
      "execution_count": 50,
      "outputs": [
        {
          "output_type": "execute_result",
          "data": {
            "text/plain": [
              "<All keys matched successfully>"
            ]
          },
          "metadata": {},
          "execution_count": 50
        }
      ]
    },
    {
      "cell_type": "code",
      "source": [
        "model_1.state_dict()"
      ],
      "metadata": {
        "colab": {
          "base_uri": "https://localhost:8080/"
        },
        "id": "qs17MKcs1daa",
        "outputId": "b0ab265b-f93c-4790-8346-894243edc2f8"
      },
      "execution_count": 51,
      "outputs": [
        {
          "output_type": "execute_result",
          "data": {
            "text/plain": [
              "OrderedDict([('weights', tensor([0.6614])), ('bias', tensor([2.0978]))])"
            ]
          },
          "metadata": {},
          "execution_count": 51
        }
      ]
    },
    {
      "cell_type": "code",
      "source": [],
      "metadata": {
        "id": "zlPhSpEm1i6z"
      },
      "execution_count": null,
      "outputs": []
    }
  ]
}