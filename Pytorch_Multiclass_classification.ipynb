{
  "nbformat": 4,
  "nbformat_minor": 0,
  "metadata": {
    "colab": {
      "provenance": [],
      "gpuType": "T4",
      "authorship_tag": "ABX9TyM5/LcD3guJI6LRugZne8BX",
      "include_colab_link": true
    },
    "kernelspec": {
      "name": "python3",
      "display_name": "Python 3"
    },
    "language_info": {
      "name": "python"
    },
    "accelerator": "GPU"
  },
  "cells": [
    {
      "cell_type": "markdown",
      "metadata": {
        "id": "view-in-github",
        "colab_type": "text"
      },
      "source": [
        "<a href=\"https://colab.research.google.com/github/utkarshg1/Pytorch/blob/main/Pytorch_Multiclass_classification.ipynb\" target=\"_parent\"><img src=\"https://colab.research.google.com/assets/colab-badge.svg\" alt=\"Open In Colab\"/></a>"
      ]
    },
    {
      "cell_type": "markdown",
      "source": [
        "# Data creation"
      ],
      "metadata": {
        "id": "Rm64bVTTqb2s"
      }
    },
    {
      "cell_type": "code",
      "execution_count": 1,
      "metadata": {
        "id": "rZAJuj4qqFlw"
      },
      "outputs": [],
      "source": [
        "import torch\n",
        "from torch import nn\n",
        "import matplotlib.pyplot as plt\n",
        "from sklearn.datasets import make_classification\n",
        "from sklearn.model_selection import train_test_split"
      ]
    },
    {
      "cell_type": "code",
      "source": [
        "# Dataset parameters\n",
        "N_SAMPLES = 4000\n",
        "N_FEATURES = 10\n",
        "N_INFORMATIVE = 5\n",
        "N_CLASSES = 4\n",
        "RANDOM_STATE = 42\n",
        "\n",
        "# Make classification\n",
        "X, y = make_classification(n_samples=N_SAMPLES, n_features=N_FEATURES,\n",
        "                           n_informative=N_INFORMATIVE, n_classes=N_CLASSES,\n",
        "                           random_state=RANDOM_STATE)"
      ],
      "metadata": {
        "id": "rtCFfG-nq7hd"
      },
      "execution_count": 2,
      "outputs": []
    },
    {
      "cell_type": "code",
      "source": [
        "X"
      ],
      "metadata": {
        "colab": {
          "base_uri": "https://localhost:8080/"
        },
        "id": "Iuxe8FA4rkql",
        "outputId": "10c56d81-c816-432d-cef4-c6a02a134872"
      },
      "execution_count": 3,
      "outputs": [
        {
          "output_type": "execute_result",
          "data": {
            "text/plain": [
              "array([[ 0.81203507,  2.25275853,  0.76499235, ...,  0.48318329,\n",
              "         1.52099965, -1.83205977],\n",
              "       [ 0.20196614,  0.0830052 , -1.28840013, ..., -0.97458052,\n",
              "         0.23646668,  1.05807438],\n",
              "       [ 0.849731  ,  0.28688947, -0.60478079, ..., -0.91572863,\n",
              "         0.69042442, -0.50842179],\n",
              "       ...,\n",
              "       [-0.50696395,  3.40808192, -0.88127988, ...,  0.56784662,\n",
              "        -0.56586092, -5.09895611],\n",
              "       [ 0.40467275, -1.21416881,  0.42682712, ..., -0.92663425,\n",
              "         0.87655389, -0.90506585],\n",
              "       [ 1.17814108,  0.68888479, -1.11387012, ...,  0.32892542,\n",
              "        -0.1104735 ,  1.63263462]])"
            ]
          },
          "metadata": {},
          "execution_count": 3
        }
      ]
    },
    {
      "cell_type": "code",
      "source": [
        "y"
      ],
      "metadata": {
        "colab": {
          "base_uri": "https://localhost:8080/"
        },
        "id": "db5LB031rlIT",
        "outputId": "7bf33f76-afb8-4026-8124-6f414333146f"
      },
      "execution_count": 4,
      "outputs": [
        {
          "output_type": "execute_result",
          "data": {
            "text/plain": [
              "array([3, 1, 3, ..., 1, 2, 3])"
            ]
          },
          "metadata": {},
          "execution_count": 4
        }
      ]
    },
    {
      "cell_type": "markdown",
      "source": [
        "### Convert numpy to tensor"
      ],
      "metadata": {
        "id": "JnkxZHL5ryNb"
      }
    },
    {
      "cell_type": "code",
      "source": [
        "device = \"cuda\" if torch.cuda.is_available() else \"cpu\"\n",
        "device"
      ],
      "metadata": {
        "colab": {
          "base_uri": "https://localhost:8080/",
          "height": 35
        },
        "id": "qXlFK_jisHVm",
        "outputId": "3b645261-9871-400e-b375-f62a0d1f76ba"
      },
      "execution_count": 5,
      "outputs": [
        {
          "output_type": "execute_result",
          "data": {
            "text/plain": [
              "'cuda'"
            ],
            "application/vnd.google.colaboratory.intrinsic+json": {
              "type": "string"
            }
          },
          "metadata": {},
          "execution_count": 5
        }
      ]
    },
    {
      "cell_type": "code",
      "source": [
        "X = torch.from_numpy(X).type(torch.float32).to(device)\n",
        "y = torch.from_numpy(y).type(torch.LongTensor).to(device)"
      ],
      "metadata": {
        "id": "gBDKdEU9roHV"
      },
      "execution_count": 6,
      "outputs": []
    },
    {
      "cell_type": "code",
      "source": [
        "X.device"
      ],
      "metadata": {
        "colab": {
          "base_uri": "https://localhost:8080/"
        },
        "id": "B5vcUyzBsCTQ",
        "outputId": "4cfe8994-26e9-4f17-ef8e-2c795ef59ac9"
      },
      "execution_count": 7,
      "outputs": [
        {
          "output_type": "execute_result",
          "data": {
            "text/plain": [
              "device(type='cuda', index=0)"
            ]
          },
          "metadata": {},
          "execution_count": 7
        }
      ]
    },
    {
      "cell_type": "code",
      "source": [
        "y.device"
      ],
      "metadata": {
        "colab": {
          "base_uri": "https://localhost:8080/"
        },
        "id": "3CvtjphhsEbW",
        "outputId": "bb6036aa-54bc-4478-96e9-6637a27c9e01"
      },
      "execution_count": 8,
      "outputs": [
        {
          "output_type": "execute_result",
          "data": {
            "text/plain": [
              "device(type='cuda', index=0)"
            ]
          },
          "metadata": {},
          "execution_count": 8
        }
      ]
    },
    {
      "cell_type": "markdown",
      "source": [
        "### Train Test split"
      ],
      "metadata": {
        "id": "08p1PsRysGM1"
      }
    },
    {
      "cell_type": "code",
      "source": [
        "xtrain, xtest, ytrain, ytest = train_test_split(X, y, test_size=0.3, random_state=42)"
      ],
      "metadata": {
        "id": "pfYL8wKasFjQ"
      },
      "execution_count": 9,
      "outputs": []
    },
    {
      "cell_type": "code",
      "source": [
        "xtrain.shape"
      ],
      "metadata": {
        "colab": {
          "base_uri": "https://localhost:8080/"
        },
        "id": "XOR2QneGsbv1",
        "outputId": "e4b40b06-b963-4357-bc70-e96fd827acd2"
      },
      "execution_count": 10,
      "outputs": [
        {
          "output_type": "execute_result",
          "data": {
            "text/plain": [
              "torch.Size([2800, 10])"
            ]
          },
          "metadata": {},
          "execution_count": 10
        }
      ]
    },
    {
      "cell_type": "code",
      "source": [
        "xtest.shape"
      ],
      "metadata": {
        "colab": {
          "base_uri": "https://localhost:8080/"
        },
        "id": "_DcdjHNUsclo",
        "outputId": "939d6784-11b9-4661-e0ca-7576074b894e"
      },
      "execution_count": 11,
      "outputs": [
        {
          "output_type": "execute_result",
          "data": {
            "text/plain": [
              "torch.Size([1200, 10])"
            ]
          },
          "metadata": {},
          "execution_count": 11
        }
      ]
    },
    {
      "cell_type": "code",
      "source": [
        "xtrain.device"
      ],
      "metadata": {
        "colab": {
          "base_uri": "https://localhost:8080/"
        },
        "id": "mKprF4hzDjHQ",
        "outputId": "92653ad7-74d5-402d-cdb9-80e23251cfd0"
      },
      "execution_count": 12,
      "outputs": [
        {
          "output_type": "execute_result",
          "data": {
            "text/plain": [
              "device(type='cuda', index=0)"
            ]
          },
          "metadata": {},
          "execution_count": 12
        }
      ]
    },
    {
      "cell_type": "markdown",
      "source": [
        "# Model"
      ],
      "metadata": {
        "id": "GNTBfYWv43vZ"
      }
    },
    {
      "cell_type": "code",
      "source": [
        "class MultiClassModel(nn.Module):\n",
        "\n",
        "  def __init__(self, input_features, output_features, hidden_units):\n",
        "    super().__init__()\n",
        "    self.linear_layer_stack = nn.Sequential(\n",
        "        nn.Linear(in_features=input_features, out_features=hidden_units),\n",
        "        nn.ReLU(),\n",
        "        nn.Linear(in_features=hidden_units, out_features=hidden_units//2),\n",
        "        nn.ReLU(),\n",
        "        nn.Linear(in_features=hidden_units//2, out_features=output_features)\n",
        "    )\n",
        "\n",
        "  def forward(self, x: torch.Tensor) -> torch.Tensor:\n",
        "    return self.linear_layer_stack(x)"
      ],
      "metadata": {
        "id": "13SAWT8gsdi3"
      },
      "execution_count": 13,
      "outputs": []
    },
    {
      "cell_type": "code",
      "source": [
        "model_1 = MultiClassModel(input_features=N_FEATURES,\n",
        "                          output_features=N_CLASSES,\n",
        "                          hidden_units=16).to(device)"
      ],
      "metadata": {
        "id": "sNM5S4JN6WTv"
      },
      "execution_count": 14,
      "outputs": []
    },
    {
      "cell_type": "code",
      "source": [
        "model_1"
      ],
      "metadata": {
        "colab": {
          "base_uri": "https://localhost:8080/"
        },
        "id": "I0kyUAYg8hlh",
        "outputId": "4c2fe206-72bd-4f43-b69b-fcf7fb45f3be"
      },
      "execution_count": 15,
      "outputs": [
        {
          "output_type": "execute_result",
          "data": {
            "text/plain": [
              "MultiClassModel(\n",
              "  (linear_layer_stack): Sequential(\n",
              "    (0): Linear(in_features=10, out_features=16, bias=True)\n",
              "    (1): ReLU()\n",
              "    (2): Linear(in_features=16, out_features=8, bias=True)\n",
              "    (3): ReLU()\n",
              "    (4): Linear(in_features=8, out_features=4, bias=True)\n",
              "  )\n",
              ")"
            ]
          },
          "metadata": {},
          "execution_count": 15
        }
      ]
    },
    {
      "cell_type": "code",
      "source": [
        "loss_fn = nn.CrossEntropyLoss()\n",
        "loss_fn"
      ],
      "metadata": {
        "colab": {
          "base_uri": "https://localhost:8080/"
        },
        "id": "0ypX4j5L8ipb",
        "outputId": "985604eb-c7f9-4a84-c99c-2df3b9a0ab91"
      },
      "execution_count": 16,
      "outputs": [
        {
          "output_type": "execute_result",
          "data": {
            "text/plain": [
              "CrossEntropyLoss()"
            ]
          },
          "metadata": {},
          "execution_count": 16
        }
      ]
    },
    {
      "cell_type": "code",
      "source": [
        "optimizer = torch.optim.SGD(params=model_1.parameters(), lr=0.1)\n",
        "optimizer"
      ],
      "metadata": {
        "colab": {
          "base_uri": "https://localhost:8080/"
        },
        "id": "KWm679wx92_u",
        "outputId": "458e9a88-ee66-449a-8f3c-33a91bbcd560"
      },
      "execution_count": 17,
      "outputs": [
        {
          "output_type": "execute_result",
          "data": {
            "text/plain": [
              "SGD (\n",
              "Parameter Group 0\n",
              "    dampening: 0\n",
              "    differentiable: False\n",
              "    foreach: None\n",
              "    fused: None\n",
              "    lr: 0.1\n",
              "    maximize: False\n",
              "    momentum: 0\n",
              "    nesterov: False\n",
              "    weight_decay: 0\n",
              ")"
            ]
          },
          "metadata": {},
          "execution_count": 17
        }
      ]
    },
    {
      "cell_type": "code",
      "source": [
        "model_1.eval()\n",
        "with torch.inference_mode():\n",
        "  y_logits = model_1(xtest)"
      ],
      "metadata": {
        "id": "loeS9Gca-JCJ"
      },
      "execution_count": 18,
      "outputs": []
    },
    {
      "cell_type": "code",
      "source": [
        "y_logits[0:5]"
      ],
      "metadata": {
        "colab": {
          "base_uri": "https://localhost:8080/"
        },
        "id": "XGFfPKR0-ly0",
        "outputId": "d77b2c45-41ea-4939-ba47-cb94cac196f1"
      },
      "execution_count": 19,
      "outputs": [
        {
          "output_type": "execute_result",
          "data": {
            "text/plain": [
              "tensor([[-0.1385, -0.1859, -0.0773, -0.1994],\n",
              "        [ 0.1427, -0.1081, -0.2336, -0.2384],\n",
              "        [-0.1201, -0.2376,  0.1091, -0.4067],\n",
              "        [-0.1270, -0.2103,  0.0122, -0.2932],\n",
              "        [-0.1033, -0.2567,  0.0297, -0.2703]], device='cuda:0')"
            ]
          },
          "metadata": {},
          "execution_count": 19
        }
      ]
    },
    {
      "cell_type": "code",
      "source": [
        "y_probs = torch.softmax(y_logits, dim=1)"
      ],
      "metadata": {
        "id": "8bY7UWBn_CgK"
      },
      "execution_count": 20,
      "outputs": []
    },
    {
      "cell_type": "code",
      "source": [
        "y_probs[0:5]"
      ],
      "metadata": {
        "colab": {
          "base_uri": "https://localhost:8080/"
        },
        "id": "o8uoOyob_Sry",
        "outputId": "b357c0c0-82a8-4f4f-fd7c-6ef7c9a092df"
      },
      "execution_count": 21,
      "outputs": [
        {
          "output_type": "execute_result",
          "data": {
            "text/plain": [
              "tensor([[0.2527, 0.2410, 0.2686, 0.2377],\n",
              "        [0.3177, 0.2472, 0.2181, 0.2170],\n",
              "        [0.2566, 0.2281, 0.3227, 0.1926],\n",
              "        [0.2553, 0.2349, 0.2935, 0.2163],\n",
              "        [0.2600, 0.2230, 0.2970, 0.2200]], device='cuda:0')"
            ]
          },
          "metadata": {},
          "execution_count": 21
        }
      ]
    },
    {
      "cell_type": "code",
      "source": [
        "y_preds = torch.argmax(y_probs, dim=1)"
      ],
      "metadata": {
        "id": "fiU6yd1F-pPk"
      },
      "execution_count": 22,
      "outputs": []
    },
    {
      "cell_type": "code",
      "source": [
        "y_preds"
      ],
      "metadata": {
        "colab": {
          "base_uri": "https://localhost:8080/"
        },
        "id": "-ENqKeqZ_bea",
        "outputId": "289addf4-89b0-42b7-dae4-0af67f4327e5"
      },
      "execution_count": 23,
      "outputs": [
        {
          "output_type": "execute_result",
          "data": {
            "text/plain": [
              "tensor([2, 0, 2,  ..., 2, 0, 3], device='cuda:0')"
            ]
          },
          "metadata": {},
          "execution_count": 23
        }
      ]
    },
    {
      "cell_type": "code",
      "source": [
        "def accuracy_fn(y_true, y_pred):\n",
        "  correct = torch.eq(y_true, y_pred).sum().item()\n",
        "  acc = (correct / len(y_pred)) * 100\n",
        "  return acc"
      ],
      "metadata": {
        "id": "661q2AoJAd3b"
      },
      "execution_count": 24,
      "outputs": []
    },
    {
      "cell_type": "markdown",
      "source": [
        "### Train Loop"
      ],
      "metadata": {
        "id": "6iMnj3YD_vnZ"
      }
    },
    {
      "cell_type": "code",
      "source": [
        "torch.manual_seed(42)\n",
        "torch.cuda.manual_seed(42)\n",
        "epochs = 10000\n",
        "\n",
        "for epoch in range(epochs):\n",
        "  model_1.train()\n",
        "  y_logits = model_1(xtrain)\n",
        "  y_probs = torch.softmax(y_logits, dim=1)\n",
        "  y_preds = torch.argmax(y_probs, dim=1)\n",
        "  loss = loss_fn(y_logits, ytrain)\n",
        "  acc = accuracy_fn(ytrain, y_preds)\n",
        "  optimizer.zero_grad()\n",
        "  loss.backward()\n",
        "  optimizer.step()\n",
        "\n",
        "  model_1.eval()\n",
        "  with torch.inference_mode():\n",
        "    test_logits = model_1(xtest)\n",
        "    test_probs = torch.softmax(test_logits, dim=1)\n",
        "    test_preds = torch.argmax(test_probs, dim=1)\n",
        "    test_loss = loss_fn(test_logits, ytest)\n",
        "    test_acc = accuracy_fn(ytest, test_preds)\n",
        "\n",
        "  if epoch % 100 == 0:\n",
        "    print(f\"Epoch: {epoch} | Loss: {loss:.4f}, Acc: {acc:.2f}% | Test Loss: {test_loss:.4f}, Test Acc: {test_acc:.2f}%\")"
      ],
      "metadata": {
        "colab": {
          "base_uri": "https://localhost:8080/"
        },
        "id": "jMbZLIsP_cLZ",
        "outputId": "b9900706-ba6e-42c1-e6fa-aed1b21851f6"
      },
      "execution_count": 25,
      "outputs": [
        {
          "output_type": "stream",
          "name": "stdout",
          "text": [
            "Epoch: 0 | Loss: 1.3807, Acc: 25.86% | Test Loss: 1.3737, Test Acc: 26.58%\n",
            "Epoch: 100 | Loss: 0.8879, Acc: 64.14% | Test Loss: 0.8626, Test Acc: 64.25%\n",
            "Epoch: 200 | Loss: 0.7290, Acc: 70.07% | Test Loss: 0.7331, Test Acc: 71.00%\n",
            "Epoch: 300 | Loss: 0.6319, Acc: 75.29% | Test Loss: 0.6424, Test Acc: 75.33%\n",
            "Epoch: 400 | Loss: 0.5613, Acc: 79.04% | Test Loss: 0.5800, Test Acc: 78.58%\n",
            "Epoch: 500 | Loss: 0.5139, Acc: 80.79% | Test Loss: 0.5443, Test Acc: 79.42%\n",
            "Epoch: 600 | Loss: 0.4836, Acc: 81.93% | Test Loss: 0.5249, Test Acc: 79.75%\n",
            "Epoch: 700 | Loss: 0.4620, Acc: 82.57% | Test Loss: 0.5131, Test Acc: 80.00%\n",
            "Epoch: 800 | Loss: 0.4443, Acc: 83.43% | Test Loss: 0.5027, Test Acc: 80.42%\n",
            "Epoch: 900 | Loss: 0.4276, Acc: 84.21% | Test Loss: 0.4917, Test Acc: 81.50%\n",
            "Epoch: 1000 | Loss: 0.4125, Acc: 85.21% | Test Loss: 0.4800, Test Acc: 82.83%\n",
            "Epoch: 1100 | Loss: 0.3992, Acc: 85.75% | Test Loss: 0.4698, Test Acc: 83.33%\n",
            "Epoch: 1200 | Loss: 0.3872, Acc: 86.32% | Test Loss: 0.4619, Test Acc: 83.58%\n",
            "Epoch: 1300 | Loss: 0.3764, Acc: 86.82% | Test Loss: 0.4552, Test Acc: 84.17%\n",
            "Epoch: 1400 | Loss: 0.3669, Acc: 87.25% | Test Loss: 0.4497, Test Acc: 84.42%\n",
            "Epoch: 1500 | Loss: 0.3592, Acc: 87.57% | Test Loss: 0.4450, Test Acc: 84.08%\n",
            "Epoch: 1600 | Loss: 0.3525, Acc: 87.89% | Test Loss: 0.4399, Test Acc: 84.08%\n",
            "Epoch: 1700 | Loss: 0.3467, Acc: 88.36% | Test Loss: 0.4364, Test Acc: 84.42%\n",
            "Epoch: 1800 | Loss: 0.3412, Acc: 88.39% | Test Loss: 0.4334, Test Acc: 84.83%\n",
            "Epoch: 1900 | Loss: 0.3362, Acc: 88.46% | Test Loss: 0.4318, Test Acc: 84.83%\n",
            "Epoch: 2000 | Loss: 0.3320, Acc: 88.68% | Test Loss: 0.4310, Test Acc: 84.83%\n",
            "Epoch: 2100 | Loss: 0.3285, Acc: 88.71% | Test Loss: 0.4307, Test Acc: 84.75%\n",
            "Epoch: 2200 | Loss: 0.3253, Acc: 89.00% | Test Loss: 0.4306, Test Acc: 85.17%\n",
            "Epoch: 2300 | Loss: 0.3226, Acc: 89.21% | Test Loss: 0.4305, Test Acc: 84.75%\n",
            "Epoch: 2400 | Loss: 0.3202, Acc: 89.39% | Test Loss: 0.4303, Test Acc: 84.50%\n",
            "Epoch: 2500 | Loss: 0.3175, Acc: 89.57% | Test Loss: 0.4311, Test Acc: 84.92%\n",
            "Epoch: 2600 | Loss: 0.3148, Acc: 89.43% | Test Loss: 0.4315, Test Acc: 85.08%\n",
            "Epoch: 2700 | Loss: 0.3123, Acc: 89.43% | Test Loss: 0.4311, Test Acc: 85.08%\n",
            "Epoch: 2800 | Loss: 0.3098, Acc: 89.57% | Test Loss: 0.4316, Test Acc: 85.08%\n",
            "Epoch: 2900 | Loss: 0.3076, Acc: 89.61% | Test Loss: 0.4328, Test Acc: 84.92%\n",
            "Epoch: 3000 | Loss: 0.3046, Acc: 89.82% | Test Loss: 0.4348, Test Acc: 85.17%\n",
            "Epoch: 3100 | Loss: 0.3019, Acc: 89.86% | Test Loss: 0.4343, Test Acc: 85.42%\n",
            "Epoch: 3200 | Loss: 0.2995, Acc: 89.86% | Test Loss: 0.4344, Test Acc: 85.50%\n",
            "Epoch: 3300 | Loss: 0.2973, Acc: 89.82% | Test Loss: 0.4347, Test Acc: 85.58%\n",
            "Epoch: 3400 | Loss: 0.2955, Acc: 89.82% | Test Loss: 0.4346, Test Acc: 85.67%\n",
            "Epoch: 3500 | Loss: 0.2955, Acc: 89.93% | Test Loss: 0.4355, Test Acc: 85.83%\n",
            "Epoch: 3600 | Loss: 0.2946, Acc: 89.96% | Test Loss: 0.4355, Test Acc: 86.00%\n",
            "Epoch: 3700 | Loss: 0.2909, Acc: 90.07% | Test Loss: 0.4336, Test Acc: 86.08%\n",
            "Epoch: 3800 | Loss: 0.2872, Acc: 90.11% | Test Loss: 0.4325, Test Acc: 86.33%\n",
            "Epoch: 3900 | Loss: 0.2856, Acc: 90.04% | Test Loss: 0.4343, Test Acc: 86.25%\n",
            "Epoch: 4000 | Loss: 0.2869, Acc: 90.29% | Test Loss: 0.4372, Test Acc: 86.17%\n",
            "Epoch: 4100 | Loss: 0.2852, Acc: 90.36% | Test Loss: 0.4377, Test Acc: 86.17%\n",
            "Epoch: 4200 | Loss: 0.2809, Acc: 90.39% | Test Loss: 0.4375, Test Acc: 86.50%\n",
            "Epoch: 4300 | Loss: 0.2793, Acc: 90.43% | Test Loss: 0.4384, Test Acc: 86.58%\n",
            "Epoch: 4400 | Loss: 0.2787, Acc: 90.32% | Test Loss: 0.4392, Test Acc: 86.75%\n",
            "Epoch: 4500 | Loss: 0.2751, Acc: 90.54% | Test Loss: 0.4371, Test Acc: 86.83%\n",
            "Epoch: 4600 | Loss: 0.2740, Acc: 90.39% | Test Loss: 0.4374, Test Acc: 86.92%\n",
            "Epoch: 4700 | Loss: 0.2705, Acc: 90.86% | Test Loss: 0.4370, Test Acc: 86.50%\n",
            "Epoch: 4800 | Loss: 0.2688, Acc: 90.79% | Test Loss: 0.4382, Test Acc: 86.50%\n",
            "Epoch: 4900 | Loss: 0.2692, Acc: 90.68% | Test Loss: 0.4403, Test Acc: 86.58%\n",
            "Epoch: 5000 | Loss: 0.2678, Acc: 90.75% | Test Loss: 0.4416, Test Acc: 86.42%\n",
            "Epoch: 5100 | Loss: 0.2646, Acc: 90.82% | Test Loss: 0.4408, Test Acc: 86.75%\n",
            "Epoch: 5200 | Loss: 0.2625, Acc: 90.96% | Test Loss: 0.4402, Test Acc: 86.92%\n",
            "Epoch: 5300 | Loss: 0.2642, Acc: 90.86% | Test Loss: 0.4424, Test Acc: 86.92%\n",
            "Epoch: 5400 | Loss: 0.2597, Acc: 91.32% | Test Loss: 0.4415, Test Acc: 86.92%\n",
            "Epoch: 5500 | Loss: 0.2570, Acc: 91.18% | Test Loss: 0.4420, Test Acc: 86.92%\n",
            "Epoch: 5600 | Loss: 0.2584, Acc: 91.00% | Test Loss: 0.4456, Test Acc: 87.42%\n",
            "Epoch: 5700 | Loss: 0.2546, Acc: 91.21% | Test Loss: 0.4449, Test Acc: 87.33%\n",
            "Epoch: 5800 | Loss: 0.2581, Acc: 90.96% | Test Loss: 0.4491, Test Acc: 87.08%\n",
            "Epoch: 5900 | Loss: 0.2517, Acc: 91.29% | Test Loss: 0.4484, Test Acc: 87.50%\n",
            "Epoch: 6000 | Loss: 0.2528, Acc: 91.21% | Test Loss: 0.4521, Test Acc: 87.00%\n",
            "Epoch: 6100 | Loss: 0.2501, Acc: 91.43% | Test Loss: 0.4516, Test Acc: 86.83%\n",
            "Epoch: 6200 | Loss: 0.2482, Acc: 91.39% | Test Loss: 0.4517, Test Acc: 86.92%\n",
            "Epoch: 6300 | Loss: 0.2475, Acc: 91.46% | Test Loss: 0.4531, Test Acc: 86.92%\n",
            "Epoch: 6400 | Loss: 0.2555, Acc: 90.61% | Test Loss: 0.4609, Test Acc: 86.17%\n",
            "Epoch: 6500 | Loss: 0.2436, Acc: 91.57% | Test Loss: 0.4557, Test Acc: 86.75%\n",
            "Epoch: 6600 | Loss: 0.2453, Acc: 91.36% | Test Loss: 0.4572, Test Acc: 86.92%\n",
            "Epoch: 6700 | Loss: 0.2443, Acc: 91.54% | Test Loss: 0.4587, Test Acc: 86.83%\n",
            "Epoch: 6800 | Loss: 0.2400, Acc: 91.64% | Test Loss: 0.4573, Test Acc: 86.83%\n",
            "Epoch: 6900 | Loss: 0.2383, Acc: 91.46% | Test Loss: 0.4563, Test Acc: 87.00%\n",
            "Epoch: 7000 | Loss: 0.2431, Acc: 91.36% | Test Loss: 0.4635, Test Acc: 87.00%\n",
            "Epoch: 7100 | Loss: 0.2389, Acc: 91.61% | Test Loss: 0.4631, Test Acc: 87.00%\n",
            "Epoch: 7200 | Loss: 0.2389, Acc: 91.21% | Test Loss: 0.4616, Test Acc: 87.00%\n",
            "Epoch: 7300 | Loss: 0.2386, Acc: 91.18% | Test Loss: 0.4637, Test Acc: 87.33%\n",
            "Epoch: 7400 | Loss: 0.2445, Acc: 90.61% | Test Loss: 0.4714, Test Acc: 87.17%\n",
            "Epoch: 7500 | Loss: 0.2370, Acc: 91.39% | Test Loss: 0.4684, Test Acc: 86.92%\n",
            "Epoch: 7600 | Loss: 0.2417, Acc: 91.36% | Test Loss: 0.4891, Test Acc: 85.83%\n",
            "Epoch: 7700 | Loss: 0.2354, Acc: 91.93% | Test Loss: 0.4792, Test Acc: 86.25%\n",
            "Epoch: 7800 | Loss: 0.2397, Acc: 91.68% | Test Loss: 0.4816, Test Acc: 86.92%\n",
            "Epoch: 7900 | Loss: 0.2361, Acc: 91.89% | Test Loss: 0.4774, Test Acc: 87.08%\n",
            "Epoch: 8000 | Loss: 0.2366, Acc: 92.04% | Test Loss: 0.4762, Test Acc: 87.50%\n",
            "Epoch: 8100 | Loss: 0.2389, Acc: 91.43% | Test Loss: 0.4884, Test Acc: 86.17%\n",
            "Epoch: 8200 | Loss: 0.2381, Acc: 91.79% | Test Loss: 0.4814, Test Acc: 87.25%\n",
            "Epoch: 8300 | Loss: 0.2373, Acc: 91.39% | Test Loss: 0.4903, Test Acc: 86.33%\n",
            "Epoch: 8400 | Loss: 0.2365, Acc: 91.43% | Test Loss: 0.4891, Test Acc: 86.17%\n",
            "Epoch: 8500 | Loss: 0.2397, Acc: 91.43% | Test Loss: 0.4954, Test Acc: 86.17%\n",
            "Epoch: 8600 | Loss: 0.2344, Acc: 91.82% | Test Loss: 0.4834, Test Acc: 86.92%\n",
            "Epoch: 8700 | Loss: 0.2434, Acc: 91.21% | Test Loss: 0.5045, Test Acc: 85.75%\n",
            "Epoch: 8800 | Loss: 0.2378, Acc: 91.39% | Test Loss: 0.4964, Test Acc: 85.92%\n",
            "Epoch: 8900 | Loss: 0.2345, Acc: 91.89% | Test Loss: 0.4857, Test Acc: 86.92%\n",
            "Epoch: 9000 | Loss: 0.2317, Acc: 91.89% | Test Loss: 0.4815, Test Acc: 86.92%\n",
            "Epoch: 9100 | Loss: 0.2383, Acc: 91.39% | Test Loss: 0.4999, Test Acc: 85.83%\n",
            "Epoch: 9200 | Loss: 0.2364, Acc: 91.54% | Test Loss: 0.4950, Test Acc: 85.75%\n",
            "Epoch: 9300 | Loss: 0.2370, Acc: 91.68% | Test Loss: 0.4880, Test Acc: 87.00%\n",
            "Epoch: 9400 | Loss: 0.2349, Acc: 91.75% | Test Loss: 0.4912, Test Acc: 86.33%\n",
            "Epoch: 9500 | Loss: 0.2288, Acc: 91.68% | Test Loss: 0.4868, Test Acc: 86.58%\n",
            "Epoch: 9600 | Loss: 0.2336, Acc: 91.46% | Test Loss: 0.4943, Test Acc: 86.50%\n",
            "Epoch: 9700 | Loss: 0.2291, Acc: 91.89% | Test Loss: 0.4849, Test Acc: 87.00%\n",
            "Epoch: 9800 | Loss: 0.2275, Acc: 92.11% | Test Loss: 0.4835, Test Acc: 86.92%\n",
            "Epoch: 9900 | Loss: 0.2320, Acc: 91.68% | Test Loss: 0.4901, Test Acc: 86.42%\n"
          ]
        }
      ]
    },
    {
      "cell_type": "code",
      "source": [
        "model_1.eval()\n",
        "with torch.inference_mode():\n",
        "  test_logits = model_1(xtest)\n",
        "  test_probs = torch.softmax(test_logits, dim=1)\n",
        "  test_preds = torch.argmax(test_probs, dim=1)"
      ],
      "metadata": {
        "id": "8M_18_tyAgik"
      },
      "execution_count": 27,
      "outputs": []
    },
    {
      "cell_type": "code",
      "source": [
        "test_preds[0:5]"
      ],
      "metadata": {
        "colab": {
          "base_uri": "https://localhost:8080/"
        },
        "id": "CLlr8buUE2jz",
        "outputId": "0effe27e-571a-448e-cf42-9d63f3372cbf"
      },
      "execution_count": 28,
      "outputs": [
        {
          "output_type": "execute_result",
          "data": {
            "text/plain": [
              "tensor([0, 1, 3, 1, 0], device='cuda:0')"
            ]
          },
          "metadata": {},
          "execution_count": 28
        }
      ]
    },
    {
      "cell_type": "code",
      "source": [
        "ytest[0:5]"
      ],
      "metadata": {
        "colab": {
          "base_uri": "https://localhost:8080/"
        },
        "id": "1qw2ztEzE5zQ",
        "outputId": "1ffc17f7-b6f9-4ff9-f620-5a3ac451b13c"
      },
      "execution_count": 29,
      "outputs": [
        {
          "output_type": "execute_result",
          "data": {
            "text/plain": [
              "tensor([0, 0, 3, 1, 0], device='cuda:0')"
            ]
          },
          "metadata": {},
          "execution_count": 29
        }
      ]
    },
    {
      "cell_type": "code",
      "source": [
        "ytest_cpu = ytest.cpu().detach()\n",
        "test_preds_cpu = test_preds.cpu().detach()"
      ],
      "metadata": {
        "id": "Zr6nE_UTE7s-"
      },
      "execution_count": 33,
      "outputs": []
    },
    {
      "cell_type": "code",
      "source": [
        "from sklearn.metrics import ConfusionMatrixDisplay\n",
        "\n",
        "ConfusionMatrixDisplay.from_predictions(ytest_cpu, test_preds_cpu)"
      ],
      "metadata": {
        "colab": {
          "base_uri": "https://localhost:8080/",
          "height": 466
        },
        "id": "kR-0Gi2wFFW_",
        "outputId": "8871d90e-3215-4ae6-fc34-692034e9c58f"
      },
      "execution_count": 34,
      "outputs": [
        {
          "output_type": "execute_result",
          "data": {
            "text/plain": [
              "<sklearn.metrics._plot.confusion_matrix.ConfusionMatrixDisplay at 0x7c6ec278a890>"
            ]
          },
          "metadata": {},
          "execution_count": 34
        },
        {
          "output_type": "display_data",
          "data": {
            "text/plain": [
              "<Figure size 640x480 with 2 Axes>"
            ],
            "image/png": "[encoded data removed]"
          },
          "metadata": {}
        }
      ]
    },
    {
      "cell_type": "code",
      "source": [
        "from sklearn.metrics import classification_report\n",
        "\n",
        "print(classification_report(ytest_cpu, test_preds_cpu))"
      ],
      "metadata": {
        "colab": {
          "base_uri": "https://localhost:8080/"
        },
        "id": "Gb1Sii3wFgyb",
        "outputId": "b4e1ea4d-0c42-4378-ccf3-e10efb646def"
      },
      "execution_count": 36,
      "outputs": [
        {
          "output_type": "stream",
          "name": "stdout",
          "text": [
            "              precision    recall  f1-score   support\n",
            "\n",
            "           0       0.82      0.90      0.86       295\n",
            "           1       0.89      0.93      0.91       312\n",
            "           2       0.89      0.79      0.84       303\n",
            "           3       0.89      0.88      0.89       290\n",
            "\n",
            "    accuracy                           0.87      1200\n",
            "   macro avg       0.88      0.87      0.87      1200\n",
            "weighted avg       0.88      0.87      0.87      1200\n",
            "\n"
          ]
        }
      ]
    }
  ]
}