{
  "nbformat": 4,
  "nbformat_minor": 0,
  "metadata": {
    "colab": {
      "provenance": [],
      "authorship_tag": "ABX9TyPivY5Kt3fYpM71zwePh+4Q",
      "include_colab_link": true
    },
    "kernelspec": {
      "name": "python3",
      "display_name": "Python 3"
    },
    "language_info": {
      "name": "python"
    }
  },
  "cells": [
    {
      "cell_type": "markdown",
      "metadata": {
        "id": "view-in-github",
        "colab_type": "text"
      },
      "source": [
        "<a href=\"https://colab.research.google.com/github/utkarshg1/Pytorch/blob/main/Pytorch_Multiclass_classification.ipynb\" target=\"_parent\"><img src=\"https://colab.research.google.com/assets/colab-badge.svg\" alt=\"Open In Colab\"/></a>"
      ]
    },
    {
      "cell_type": "markdown",
      "source": [
        "# Data creation"
      ],
      "metadata": {
        "id": "Rm64bVTTqb2s"
      }
    },
    {
      "cell_type": "code",
      "execution_count": 14,
      "metadata": {
        "id": "rZAJuj4qqFlw"
      },
      "outputs": [],
      "source": [
        "import torch\n",
        "from torch import nn\n",
        "import matplotlib.pyplot as plt\n",
        "from sklearn.datasets import make_classification\n",
        "from sklearn.model_selection import train_test_split"
      ]
    },
    {
      "cell_type": "code",
      "source": [
        "# Dataset parameters\n",
        "N_SAMPLES = 4000\n",
        "N_FEATURES = 10\n",
        "N_INFORMATIVE = 5\n",
        "N_CLASSES = 4\n",
        "RANDOM_STATE = 42\n",
        "\n",
        "# Make classification\n",
        "X, y = make_classification(n_samples=N_SAMPLES, n_features=N_FEATURES,\n",
        "                           n_informative=N_INFORMATIVE, n_classes=N_CLASSES,\n",
        "                           random_state=RANDOM_STATE)"
      ],
      "metadata": {
        "id": "rtCFfG-nq7hd"
      },
      "execution_count": 15,
      "outputs": []
    },
    {
      "cell_type": "code",
      "source": [
        "X"
      ],
      "metadata": {
        "colab": {
          "base_uri": "https://localhost:8080/"
        },
        "id": "Iuxe8FA4rkql",
        "outputId": "181caafc-21b9-453d-bbb9-2c7d976db6d4"
      },
      "execution_count": 16,
      "outputs": [
        {
          "output_type": "execute_result",
          "data": {
            "text/plain": [
              "array([[ 0.81203507,  2.25275853,  0.76499235, ...,  0.48318329,\n",
              "         1.52099965, -1.83205977],\n",
              "       [ 0.20196614,  0.0830052 , -1.28840013, ..., -0.97458052,\n",
              "         0.23646668,  1.05807438],\n",
              "       [ 0.849731  ,  0.28688947, -0.60478079, ..., -0.91572863,\n",
              "         0.69042442, -0.50842179],\n",
              "       ...,\n",
              "       [-0.50696395,  3.40808192, -0.88127988, ...,  0.56784662,\n",
              "        -0.56586092, -5.09895611],\n",
              "       [ 0.40467275, -1.21416881,  0.42682712, ..., -0.92663425,\n",
              "         0.87655389, -0.90506585],\n",
              "       [ 1.17814108,  0.68888479, -1.11387012, ...,  0.32892542,\n",
              "        -0.1104735 ,  1.63263462]])"
            ]
          },
          "metadata": {},
          "execution_count": 16
        }
      ]
    },
    {
      "cell_type": "code",
      "source": [
        "y"
      ],
      "metadata": {
        "colab": {
          "base_uri": "https://localhost:8080/"
        },
        "id": "db5LB031rlIT",
        "outputId": "4410fb86-7e52-4179-8e17-f3d419d3460e"
      },
      "execution_count": 17,
      "outputs": [
        {
          "output_type": "execute_result",
          "data": {
            "text/plain": [
              "array([3, 1, 3, ..., 1, 2, 3])"
            ]
          },
          "metadata": {},
          "execution_count": 17
        }
      ]
    },
    {
      "cell_type": "markdown",
      "source": [
        "### Convert numpy to tensor"
      ],
      "metadata": {
        "id": "JnkxZHL5ryNb"
      }
    },
    {
      "cell_type": "code",
      "source": [
        "device = \"cuda\" if torch.cuda.is_available() else \"cpu\"\n",
        "device"
      ],
      "metadata": {
        "colab": {
          "base_uri": "https://localhost:8080/",
          "height": 35
        },
        "id": "qXlFK_jisHVm",
        "outputId": "3f423df5-0af6-42cb-c631-8d54a6bae6ff"
      },
      "execution_count": 18,
      "outputs": [
        {
          "output_type": "execute_result",
          "data": {
            "text/plain": [
              "'cpu'"
            ],
            "application/vnd.google.colaboratory.intrinsic+json": {
              "type": "string"
            }
          },
          "metadata": {},
          "execution_count": 18
        }
      ]
    },
    {
      "cell_type": "code",
      "source": [
        "X = torch.from_numpy(X).type(torch.float32).to(device)\n",
        "y = torch.from_numpy(y).type(torch.float32).to(device)"
      ],
      "metadata": {
        "id": "gBDKdEU9roHV"
      },
      "execution_count": 19,
      "outputs": []
    },
    {
      "cell_type": "code",
      "source": [
        "X.dtype"
      ],
      "metadata": {
        "colab": {
          "base_uri": "https://localhost:8080/"
        },
        "id": "B5vcUyzBsCTQ",
        "outputId": "07bc3e8a-aba9-4ecc-e628-77ca739096f9"
      },
      "execution_count": 20,
      "outputs": [
        {
          "output_type": "execute_result",
          "data": {
            "text/plain": [
              "torch.float32"
            ]
          },
          "metadata": {},
          "execution_count": 20
        }
      ]
    },
    {
      "cell_type": "code",
      "source": [
        "y.dtype"
      ],
      "metadata": {
        "colab": {
          "base_uri": "https://localhost:8080/"
        },
        "id": "3CvtjphhsEbW",
        "outputId": "7b7d8fe3-b369-4e68-91e5-d0152ddf925e"
      },
      "execution_count": 21,
      "outputs": [
        {
          "output_type": "execute_result",
          "data": {
            "text/plain": [
              "torch.float32"
            ]
          },
          "metadata": {},
          "execution_count": 21
        }
      ]
    },
    {
      "cell_type": "markdown",
      "source": [
        "### Train Test split"
      ],
      "metadata": {
        "id": "08p1PsRysGM1"
      }
    },
    {
      "cell_type": "code",
      "source": [
        "xtrain, xtest, ytrain, test = train_test_split(X, y, test_size=0.3, random_state=42)"
      ],
      "metadata": {
        "id": "pfYL8wKasFjQ"
      },
      "execution_count": 25,
      "outputs": []
    },
    {
      "cell_type": "code",
      "source": [
        "xtrain.shape"
      ],
      "metadata": {
        "colab": {
          "base_uri": "https://localhost:8080/"
        },
        "id": "XOR2QneGsbv1",
        "outputId": "bf5bd943-72c8-4d48-da97-b2761ba23dbd"
      },
      "execution_count": 26,
      "outputs": [
        {
          "output_type": "execute_result",
          "data": {
            "text/plain": [
              "torch.Size([2800, 10])"
            ]
          },
          "metadata": {},
          "execution_count": 26
        }
      ]
    },
    {
      "cell_type": "code",
      "source": [
        "xtest.shape"
      ],
      "metadata": {
        "colab": {
          "base_uri": "https://localhost:8080/"
        },
        "id": "_DcdjHNUsclo",
        "outputId": "24234585-c30f-47b8-f1a5-3c19a6e555b2"
      },
      "execution_count": 27,
      "outputs": [
        {
          "output_type": "execute_result",
          "data": {
            "text/plain": [
              "torch.Size([1200, 10])"
            ]
          },
          "metadata": {},
          "execution_count": 27
        }
      ]
    },
    {
      "cell_type": "code",
      "source": [],
      "metadata": {
        "id": "13SAWT8gsdi3"
      },
      "execution_count": null,
      "outputs": []
    }
  ]
}